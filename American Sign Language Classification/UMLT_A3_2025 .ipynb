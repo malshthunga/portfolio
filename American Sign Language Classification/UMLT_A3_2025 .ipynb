{
  "cells": [
    {
      "cell_type": "markdown",
      "metadata": {
        "id": "cpBTnA3HWdIp"
      },
      "source": [
        "# Assignment 3\n",
        "## Sign Language Image Classification using Deep Learning"
      ]
    },
    {
      "cell_type": "markdown",
      "metadata": {
        "id": "DWY5tAsiWdIq"
      },
      "source": [
        "In this assignment you will implement different deep learning networks to classify images of hands in poses that correspond to letters in American Sign Language. The dataset is contained in the assignment zip file, along with some images and a text file describing the dataset. It is similar in many ways to other MNIST datasets.\n",
        "\n",
        "The American Sign Language letter database of hand gestures represent a multi-class problem with 24 classes of letters (**excluding J and Z which require motion**). The dataset format is patterned to match closely with the classic MNIST. Each training and test case represents a label (0-25) as a one-to-one map for each alphabetic letter A-Z (and **no cases for 9=J or 25=Z because of gesture motions**). The training data (27,455 cases) and test data (7172 cases) are approximately half the size of the standard MNIST but otherwise similar with a header row of label, $pixel_{1}$,$pixel_{2}$….$pixel_{784}$ which represent a single 28x28 pixel image with grayscale values between 0-255.\n",
        "\n",
        "## Scenario\n",
        "\n",
        "A client is interested in having you (or rather the company that you work for) investigate whether it is possible to develop an app that would enable American sign language to be translated for people that do not sign, or those that sign in different languages/styles. They have provided you with a labelled data of images related to signs (hand positions) that represent individual letters in order to do a preliminary test of feasibility.\n",
        "\n",
        "Your manager has asked you to do this feasibility assessment, but subject to a constraint on the computational facilities available.  More specifically, you are asked to do **no more than 100 training runs in total** (including all models and hyperparameter settings that you consider).  \n",
        "\n",
        "The task requires you to create a Jupyter Notebook to perform 22 steps. These steps involve loading the dataset, fixing data problems, converting labels to one-hot encoding, plotting sample images, creating, training, and evaluating two sequential models with 20 Dense layers with 100 neurons each, checking for better accuracy using MC Dropout, retraining the first model with performance scheduling, evaluating both models, using transfer learning to create a new model using pre-trained weights, freezing the weights of the pre-trained layers, adding new Dense layers, training and evaluating the new model, predicting and converting sign language to text using the best model.\n",
        "\n",
        "### IMPORTANT\n",
        "* Train all the models locally on your own machine. No model training should occur on Gradescope (GS).\n",
        "* After completing the training, upload the trained models' **h5 files** and their training histories along with your notebook to GS.\n",
        "    * best_dnn_bn_model.keras\n",
        "    * best_dnn_bn_perf_model.keras\n",
        "    * best_dnn_selu_model.keras\n",
        "    * best_mobilenet_model.keras\n",
        "    * history1\n",
        "    * history2\n",
        "    * history1_perf\n",
        "    * historymb\n",
        "* To avoid any confusion and poor training on GS, please remember to comment out the training code in your notebook before uploading it to GS.\n"
      ]
    },
    {
      "cell_type": "code",
      "execution_count": 2,
      "metadata": {
        "id": "EMECL-CcWdIr",
        "outputId": "f32a465f-9276-41be-f65f-58403fdaeed0",
        "colab": {
          "base_uri": "https://localhost:8080/"
        }
      },
      "outputs": [
        {
          "output_type": "stream",
          "name": "stdout",
          "text": [
            "['.config', 'sample_data', 'example_letters.jpg', 'challenge1.jpg', 'sign_mnist_train.csv']\n"
          ]
        }
      ],
      "source": [
        "# import the necessary libraries (TensorFlow, sklearn NumPy, Pandas, Matplotlib and cv2)\n",
        "import pandas as pd\n",
        "import numpy as np\n",
        "import tensorflow as tf\n",
        "from tensorflow import keras\n",
        "import matplotlib.pyplot as plt\n",
        "import cv2\n",
        "import sklearn\n",
        "import os\n",
        "print(os.listdir())\n",
        "from sklearn.model_selection import train_test_split\n",
        "from sklearn.preprocessing import OneHotEncoder\n",
        "from sklearn.preprocessing import LabelBinarizer\n",
        "from sklearn.ensemble import RandomForestClassifier\n",
        "from sklearn.metrics import accuracy_score\n",
        "from sklearn import preprocessing"
      ]
    },
    {
      "cell_type": "markdown",
      "metadata": {
        "id": "rTdGckgiWdIs"
      },
      "source": [
        "**Step0** This test is for checking whether all the required files are submitted. Once you submit all the required files to the autograder, you will be able to pass this step.\n",
        "\n",
        "**IMPORTANT:** Run this step to determine whether you have created all the required files correctly.\n",
        "\n",
        "_Points:_ 1"
      ]
    },
    {
      "cell_type": "code",
      "execution_count": 1,
      "metadata": {
        "id": "NsxuCmXYWdIs",
        "colab": {
          "base_uri": "https://localhost:8080/",
          "height": 211
        },
        "outputId": "f59ad6c1-57f9-4184-c398-90393a6c1226"
      },
      "outputs": [
        {
          "output_type": "error",
          "ename": "NameError",
          "evalue": "name 'os' is not defined",
          "traceback": [
            "\u001b[0;31m---------------------------------------------------------------------------\u001b[0m",
            "\u001b[0;31mNameError\u001b[0m                                 Traceback (most recent call last)",
            "\u001b[0;32m<ipython-input-1-d68a0a6d843f>\u001b[0m in \u001b[0;36m<cell line: 0>\u001b[0;34m()\u001b[0m\n\u001b[1;32m      3\u001b[0m \u001b[0mstep0_files\u001b[0m \u001b[0;34m=\u001b[0m \u001b[0;32mTrue\u001b[0m\u001b[0;34m\u001b[0m\u001b[0;34m\u001b[0m\u001b[0m\n\u001b[1;32m      4\u001b[0m \u001b[0;32mfor\u001b[0m \u001b[0mfile\u001b[0m \u001b[0;32min\u001b[0m \u001b[0mrequired_files\u001b[0m\u001b[0;34m:\u001b[0m\u001b[0;34m\u001b[0m\u001b[0;34m\u001b[0m\u001b[0m\n\u001b[0;32m----> 5\u001b[0;31m     \u001b[0;32mif\u001b[0m \u001b[0mos\u001b[0m\u001b[0;34m.\u001b[0m\u001b[0mpath\u001b[0m\u001b[0;34m.\u001b[0m\u001b[0mexists\u001b[0m\u001b[0;34m(\u001b[0m\u001b[0mfile\u001b[0m\u001b[0;34m)\u001b[0m \u001b[0;34m==\u001b[0m \u001b[0;32mFalse\u001b[0m\u001b[0;34m:\u001b[0m\u001b[0;34m\u001b[0m\u001b[0;34m\u001b[0m\u001b[0m\n\u001b[0m\u001b[1;32m      6\u001b[0m         \u001b[0mstep0_files\u001b[0m \u001b[0;34m=\u001b[0m \u001b[0;32mFalse\u001b[0m\u001b[0;34m\u001b[0m\u001b[0;34m\u001b[0m\u001b[0m\n\u001b[1;32m      7\u001b[0m         \u001b[0mprint\u001b[0m\u001b[0;34m(\u001b[0m\u001b[0;34m\"One or more files are missing!\"\u001b[0m\u001b[0;34m)\u001b[0m\u001b[0;34m\u001b[0m\u001b[0;34m\u001b[0m\u001b[0m\n",
            "\u001b[0;31mNameError\u001b[0m: name 'os' is not defined"
          ]
        }
      ],
      "source": [
        "# Don't change this cell code\n",
        "required_files = ['best_dnn_bn_model.keras','best_dnn_bn_perf_model.keras','best_dnn_selu_model.keras','best_mobilenet_model.keras','history1','history2','history1_perf','historymb']\n",
        "step0_files = True\n",
        "for file in required_files:\n",
        "    if os.path.exists(file) == False:\n",
        "        step0_files = False\n",
        "        print(\"One or more files are missing!\")\n",
        "        break\n",
        "for file in required_files:\n",
        "    if not os.path.exists(file):\n",
        "        print(f\"❌ Missing: {file}\")\n",
        "# The following code is used by the autograder. Do not modify it.\n",
        "step0_data = step0_files\n",
        "\n"
      ]
    },
    {
      "cell_type": "code",
      "execution_count": null,
      "metadata": {
        "id": "jfCr5OnCWdIt"
      },
      "outputs": [],
      "source": [
        "grader.check(\"step00\")"
      ]
    },
    {
      "cell_type": "markdown",
      "metadata": {
        "id": "3XKpJu5zWdIt"
      },
      "source": [
        "### Data Preprocessing"
      ]
    },
    {
      "cell_type": "markdown",
      "metadata": {
        "id": "DRNEiq_xWdIt"
      },
      "source": [
        "**STEP1** Load the dataset (train and test) using `Pandas` from the CSV file.\n",
        "\n",
        "_Points:_ 1"
      ]
    },
    {
      "cell_type": "code",
      "execution_count": 4,
      "metadata": {
        "id": "DtLstJpWWdIt"
      },
      "outputs": [],
      "source": [
        "# Load the train and test dataset and store them in train_df and test_df\n",
        "\n",
        "train_df = pd.read_csv(\"sign_mnist_train.csv\")\n",
        "test_df = pd.read_csv(\"sign_mnist_test.csv\")\n",
        "\n",
        "# The following code is used by the autograder. Do not modify it.\n",
        "step1_sol = test_df.shape\n"
      ]
    },
    {
      "cell_type": "code",
      "execution_count": null,
      "metadata": {
        "scrolled": true,
        "id": "3ecGmXz2WdIt"
      },
      "outputs": [],
      "source": [
        "grader.check(\"step01\")"
      ]
    },
    {
      "cell_type": "markdown",
      "metadata": {
        "id": "chSDS506WdIu"
      },
      "source": [
        "**STEP2** Examine the data and fix any problems. Make sure it has 24 classes, starting from class 0. In addition, normalize the values of your images in a range of 0 and 1.\n",
        "\n",
        "_Points:_ 1"
      ]
    },
    {
      "cell_type": "code",
      "execution_count": 5,
      "metadata": {
        "id": "TRdZhE6wWdIu"
      },
      "outputs": [],
      "source": [
        "train_df = train_df[train_df[\"label\"].isin(range(24))].reset_index(drop=True)\n",
        "test_df = test_df[test_df[\"label\"].isin(range(24))].reset_index(drop=True)"
      ]
    },
    {
      "cell_type": "code",
      "execution_count": 6,
      "metadata": {
        "id": "PopEjedtWdIu"
      },
      "outputs": [],
      "source": [
        "# Separate labels and pixel values in training and testing sets and assign it to train_labels and train_images\n",
        "#normalize the values of your images in a range of 0 and 1\n",
        "train_images = train_df.drop(columns=[\"label\"]).values.astype(\"float32\") / 255.0\n",
        "train_labels = train_df[\"label\"].values\n",
        "\n",
        "test_images = test_df.drop(columns=[\"label\"]).values.astype(\"float32\") / 255.0\n",
        "test_labels = test_df[\"label\"].values\n",
        "\n",
        "# The following code is used by the autograder. Do not modify it.\n",
        "step2_sol = {\n",
        "    \"max_label_train\": max(train_labels),\n",
        "    \"min_label_train\": min(train_labels),\n",
        "    \"max_pixel_value_train\": max(train_images.ravel()),\n",
        "    \"min_pixel_value_train\": min(train_images.ravel()),\n",
        "    \"max_label_test\": max(test_labels),\n",
        "    \"min_label_test\": min(test_labels),\n",
        "    \"max_pixel_value_test\": max(test_images.ravel()),\n",
        "    \"min_pixel_value_test\": min(test_images.ravel())\n",
        "}\n"
      ]
    },
    {
      "cell_type": "code",
      "execution_count": null,
      "metadata": {
        "id": "zEInC4KdWdIu"
      },
      "outputs": [],
      "source": [
        "\n",
        "grader.check(\"step02\")"
      ]
    },
    {
      "cell_type": "markdown",
      "metadata": {
        "id": "ATJce6rmWdIu"
      },
      "source": [
        "**STEP3** Convert Labels to One-Hot Encoding both train and test.\n",
        "\n",
        "_Points:_ 1"
      ]
    },
    {
      "cell_type": "code",
      "execution_count": 7,
      "metadata": {
        "id": "ZvabKWxBWdIu"
      },
      "outputs": [],
      "source": [
        "#one hot encoding\n",
        "from tensorflow.keras.utils import to_categorical\n",
        "\n",
        "label_binarizer = LabelBinarizer()\n",
        "label_binarizer.fit(range(24))\n",
        "train_labels_encoded = label_binarizer.transform(train_labels)\n",
        "test_labels_encoded = label_binarizer.transform(test_labels)\n"
      ]
    },
    {
      "cell_type": "code",
      "execution_count": 8,
      "metadata": {
        "id": "U9zGlnZTWdIu",
        "outputId": "a71468a1-bcd3-481b-d022-874b78bbec0a",
        "colab": {
          "base_uri": "https://localhost:8080/"
        }
      },
      "outputs": [
        {
          "output_type": "execute_result",
          "data": {
            "text/plain": [
              "array([ 0,  1,  2,  3,  4,  5,  6,  7,  8,  9, 10, 11, 12, 13, 14, 15, 16,\n",
              "       17, 18, 19, 20, 21, 22, 23])"
            ]
          },
          "metadata": {},
          "execution_count": 8
        }
      ],
      "source": [
        "label_binarizer.classes_"
      ]
    },
    {
      "cell_type": "code",
      "execution_count": 9,
      "metadata": {
        "id": "92QJnVIoWdIv",
        "outputId": "8d65c1d2-7073-4052-f746-688ed16d006c",
        "colab": {
          "base_uri": "https://localhost:8080/"
        }
      },
      "outputs": [
        {
          "output_type": "execute_result",
          "data": {
            "text/plain": [
              "(26336, 24)"
            ]
          },
          "metadata": {},
          "execution_count": 9
        }
      ],
      "source": [
        "train_labels_encoded.shape"
      ]
    },
    {
      "cell_type": "code",
      "execution_count": 10,
      "metadata": {
        "id": "Rd7bhYSwWdIv",
        "outputId": "ac986bdb-c38f-492f-b44f-ecbdbfec3f00",
        "colab": {
          "base_uri": "https://localhost:8080/"
        }
      },
      "outputs": [
        {
          "output_type": "execute_result",
          "data": {
            "text/plain": [
              "(6840, 24)"
            ]
          },
          "metadata": {},
          "execution_count": 10
        }
      ],
      "source": [
        "test_labels_encoded.shape"
      ]
    },
    {
      "cell_type": "code",
      "execution_count": 11,
      "metadata": {
        "id": "u6EUz8qxWdIv"
      },
      "outputs": [],
      "source": [
        "# The following code is used by the autograder. Do not modify it.\n",
        "step3_sol = {\n",
        "    \"train_labels_shape\": train_labels_encoded.shape,\n",
        "    \"test_labels_shape\": test_labels_encoded.shape,\n",
        "    \"sample_train_label\": train_labels_encoded[0],\n",
        "    \"sample_test_label\": test_labels_encoded[0]\n",
        "}\n",
        "\n"
      ]
    },
    {
      "cell_type": "code",
      "execution_count": null,
      "metadata": {
        "id": "W8pD5bqaWdIv"
      },
      "outputs": [],
      "source": [
        "grader.check(\"step03\")"
      ]
    },
    {
      "cell_type": "markdown",
      "metadata": {
        "id": "E4cP4XlaWdIv"
      },
      "source": [
        "**STEP4** Plot one sample image for each letter in the dataset given in the training set. To solve this step you should use the function `imshow` to diplay your images in a similar to the image below.\n",
        "\n",
        "<center><img src=\"example_letters.jpg\" width=400 height=300/></center>\n",
        "\n",
        "\n",
        "\n",
        "\n",
        "\n",
        "_Points:_ 0"
      ]
    },
    {
      "cell_type": "code",
      "execution_count": null,
      "metadata": {
        "id": "6BYik_BKWdIv"
      },
      "outputs": [],
      "source": [
        "# Get one sample image for each label\n",
        "from keras.preprocessing import image\n",
        "from keras.models import load_model\n",
        "import tensorflow.keras.layers as tfl\n",
        "\n",
        "model = load_model(\"best_dnn_bn_model.keras\")\n",
        "dict = {0: 'A',  1: 'B',  2: 'C',  3: 'D',\n",
        "    4: 'E',  5: 'F',  6: 'G',  7: 'H',\n",
        "    8: 'I',  9: 'K', 10: 'L', 11: 'M',\n",
        "   12: 'N', 13: 'O', 14: 'P', 15: 'Q',\n",
        "   16: 'R', 17: 'S', 18: 'T', 19: 'U',\n",
        "   20: 'V', 21: 'W', 22: 'X', 23: 'Y'}\n",
        "\n",
        "img_path = \"example_letters.jpg\"\n",
        "img = image.load_img(img_path, target_size = (28,28))\n",
        "x = image.img_to_array(img) / 255.0\n",
        "x = np.expand_dims(x, axis=0)\n",
        "\n",
        "\n",
        "pred = model.predict(x)\n",
        "pred_label = np.argmax(pred)\n",
        "pred_letter = dict[pred_label]\n",
        "\n",
        "\n",
        "plt.imshow(img, cmap=\"gray\")\n",
        "plt.title(f\"Predicted letter: {predicted_letter}\")\n",
        "plt.axis(\"off\")\n",
        "plt.show()\n",
        "\n",
        "\n",
        "# Plot the sample images\n",
        "\n",
        "grader.check(\"step04\")"
      ]
    },
    {
      "cell_type": "markdown",
      "metadata": {
        "id": "oyic5HmJWdIv"
      },
      "source": [
        "## Create Neural Network Architectures\n",
        "\n",
        "In this part you should create two different models (model1 and model2) with different architectures."
      ]
    },
    {
      "cell_type": "markdown",
      "metadata": {
        "id": "BOKcjO9NWdIw"
      },
      "source": [
        "**STEP5**\n",
        "Create one sequential model in `TensorFlow` with 20 Dense layers with 100 neurons each one. Consider the specific modifications that you need to do in order to work with your specific input and those to get the required output.\n",
        "\n",
        "* This model uses Batch Normalization after each Dense layer and uses He initialization for all of them. Apply Swish activation following each Batch Normalization.\n",
        "* The input layer should be able to accept data of shape (784,), which corresponds to the flattened image data. The output layer should produce 24 outputs to correspond to each class.\n",
        "\n",
        "\n",
        "_Points:_ 5"
      ]
    },
    {
      "cell_type": "code",
      "execution_count": 12,
      "metadata": {
        "id": "YpgbmcpyWdIw"
      },
      "outputs": [],
      "source": [
        "# import libraries like dense, BatchNormalization, swish, InputLayer\n",
        "from tensorflow.keras.models import Sequential\n",
        "from tensorflow.keras.layers import Dense, BatchNormalization, Activation, Input\n",
        "from tensorflow.keras.activations import swish\n",
        "from tensorflow.keras.initializers import HeNormal\n",
        "\n",
        "\n",
        "#flatten the images\n",
        "#X_train = X_train.reshape(-1,28*28)\n",
        "#X_test = X_test.reshape(-1,28*28)\n",
        "\n",
        "# Model 1: with Batch Normalization\n",
        "model1 = keras.models.Sequential()\n",
        "model1.add(keras.layers.Input(shape=(784,)))\n",
        "\n",
        "for _ in range(20):\n",
        "    model1.add(keras.layers.Dense(100, kernel_initializer=\"he_normal\"))\n",
        "    model1.add(keras.layers.BatchNormalization())\n",
        "    model1.add(keras.layers.Activation(\"swish\"))\n",
        "\n",
        "model1.add(keras.layers.Dense(24,activation=\"softmax\"))\n",
        "\n",
        "\n",
        "# The following code is used by the autograder. Do not modify it.\n",
        "step5_sol = {\n",
        "    \"total_layers\": len(model1.layers),\n",
        "    \"output_activation\": model1.layers[-1].activation.__name__,\n",
        "    \"first_layer_input_shape\": model1.layers[0].input.shape,\n",
        "    \"last_layer_output_units\": model1.layers[-1].units,\n",
        "    \"batch_norm_count\": sum([1 for layer in model1.layers if isinstance(layer, BatchNormalization)]),\n",
        "    \"swish_activation_count\": sum([1 for layer in model1.layers if hasattr(layer, 'activation') and layer.activation == swish]),\n",
        "}\n",
        "\n"
      ]
    },
    {
      "cell_type": "code",
      "execution_count": null,
      "metadata": {
        "id": "zHgS-tPiWdIw"
      },
      "outputs": [],
      "source": [
        "grader.check(\"step05\")"
      ]
    },
    {
      "cell_type": "markdown",
      "metadata": {
        "id": "JvfoNZq7WdIw"
      },
      "source": [
        "**STEP6**\n",
        "Create a second sequential model in `TensorFlow` . This model should incorporate specific features to promote self-normalization and include regularization:\n",
        "\n",
        "* Layers and Neurons: Construct the model with 20 Dense layers, each containing 100 neurons.\n",
        "* Activation and Initialization:\n",
        "  * Use SELU (Scaled Exponential Linear Unit) activation for each Dense layer to ensure self-normalization.\n",
        "  * Initialize weights using the LeCun normal initializer in all Dense layers.\n",
        "* Regularization:\n",
        "  * Integrate Dropout with a rate of 0.1 after every second Dense layer starting from the second Dense layer to enhance model regularization without breaking self-normalization.\n",
        "* Input and Output:\n",
        "  * The input layer should accept flattened images with a dimension of 784 (28x28 images flattened).\n",
        "  * The output layer should consist of 24 neurons with softmax activation to handle multi-class classification.\n",
        "\n",
        "_Points:_ 5"
      ]
    },
    {
      "cell_type": "code",
      "execution_count": 14,
      "metadata": {
        "id": "ZO1WN0hjWdIw"
      },
      "outputs": [],
      "source": [
        "# Model 2: with SELU and self-normalization\n",
        "from tensorflow.keras.models import Sequential\n",
        "from tensorflow.keras.layers import Dense, Dropout, Input\n",
        "from tensorflow.keras.initializers import lecun_normal\n",
        "\n",
        "\n",
        "model2 = Sequential()\n",
        "model2.add(Input(shape=(784,)))\n",
        "\n",
        "for layer in range(20):\n",
        "    model2.add(Dense(100, activation='selu', kernel_initializer=lecun_normal()))\n",
        "    if (layer + 1 ) % 2 == 0:\n",
        "        model2.add(Dropout(rate=0.1))\n",
        "\n",
        "model2.add(keras.layers.Dense(24,activation='softmax'))\n",
        "\n",
        "\n",
        "# The following code is used by the autograder. Do not modify it.\n",
        "step6_sol = {\n",
        "    \"total_layers\": len(model2.layers),\n",
        "    \"dropout_count\": sum([1 for layer in model2.layers if isinstance(layer, Dropout)]),\n",
        "    \"selu_count\": sum([1 for layer in model2.layers if hasattr(layer, 'activation') and layer.activation.__name__ == 'selu']),\n",
        "    \"first_layer_config\": model2.layers[0].get_config(),\n",
        "    \"output_layer_activation\": model2.layers[-1].activation.__name__\n",
        "}\n",
        "\n"
      ]
    },
    {
      "cell_type": "code",
      "execution_count": null,
      "metadata": {
        "id": "4U3CWXmrWdIw"
      },
      "outputs": [],
      "source": [
        "grader.check(\"step06\")"
      ]
    },
    {
      "cell_type": "markdown",
      "metadata": {
        "id": "AegpuHsXWdIw"
      },
      "source": [
        "## Compile the Models"
      ]
    },
    {
      "cell_type": "markdown",
      "metadata": {
        "id": "irqCjFO3WdIw"
      },
      "source": [
        "**STEP7**\n",
        "Compile the both previous models using **Nadam** optimization. Also:\n",
        "\n",
        "* Set the loss function to categorical cross-entropy.\n",
        "* Set the metric to accuracy.\n",
        "\n",
        "_Points:_ 2"
      ]
    },
    {
      "cell_type": "code",
      "execution_count": 15,
      "metadata": {
        "id": "7_ocMYB1WdIx"
      },
      "outputs": [],
      "source": [
        "# Compile both models\n",
        "model1.compile(optimizer=\"Nadam\", loss='categorical_crossentropy' , metrics=[\"accuracy\"])\n",
        "model2.compile(optimizer=\"Nadam\", loss='categorical_crossentropy' , metrics=[\"accuracy\"])\n",
        "\n",
        "# The following code is used by the autograder. Do not modify it.\n",
        "step7_sol = {\n",
        "    \"model1_config\": {\n",
        "        \"optimizer\": str(model1.optimizer.__class__.__name__),\n",
        "        \"loss\": model1.loss\n",
        "    },\n",
        "    \"model2_config\": {\n",
        "        \"optimizer\": str(model2.optimizer.__class__.__name__),\n",
        "        \"loss\": model2.loss,\n",
        "    }\n",
        "}\n",
        "\n",
        "\n"
      ]
    },
    {
      "cell_type": "code",
      "execution_count": null,
      "metadata": {
        "id": "sSC0J7TcWdIx"
      },
      "outputs": [],
      "source": [
        "grader.check(\"step07\")"
      ]
    },
    {
      "cell_type": "markdown",
      "metadata": {
        "id": "uvZ3ZYNaWdIx"
      },
      "source": [
        "## Model Training"
      ]
    },
    {
      "cell_type": "markdown",
      "metadata": {
        "id": "-BiFwgCvWdIx"
      },
      "source": [
        "**STEP8** One of these models work preferably with data, which follow a normal distribution. Generate **train_images_scaled** and **test_images_scaled** using a `Sklearn` function that allow you to convert data to a normal distribution with mean 0 and variance equal 1 and store it in train_images_scaled and test_images_scaled\n",
        "\n",
        "_Points:_ 2"
      ]
    },
    {
      "cell_type": "code",
      "execution_count": 16,
      "metadata": {
        "id": "4MQ5y28NWdIx"
      },
      "outputs": [],
      "source": [
        "from sklearn.preprocessing import StandardScaler\n",
        "X_train_flat = train_images.reshape(-1, 784)\n",
        "X_test_flat = test_images.reshape(-1, 784)\n",
        "\n",
        "# Scale to mean 0 and std 1\n",
        "scaler = StandardScaler()\n",
        "train_images_scaled = scaler.fit_transform(X_train_flat)\n",
        "test_images_scaled = scaler.transform(X_test_flat)\n",
        "\n",
        "\n",
        "# The following code is used by the autograder. Do not modify it.\n",
        "step8_sol = (np.mean(train_images_scaled),np.mean(test_images_scaled),np.std(train_images_scaled),np.std(test_images_scaled))"
      ]
    },
    {
      "cell_type": "code",
      "execution_count": null,
      "metadata": {
        "id": "Z7KLIEuOWdIx"
      },
      "outputs": [],
      "source": [
        "grader.check(\"step08\")"
      ]
    },
    {
      "cell_type": "markdown",
      "metadata": {
        "id": "PRTFJ22rWdIx"
      },
      "source": [
        "**STEP9** Train the two models on the training dataset using early stopping. In order to save the results given by your training for your models, create checkpoints saving the best model in each case using the function `ModelCheckpoint`. Note that one of the models use the scaled data obtained in **STEP8**. Meanwhile, the other model does not. Figure out which is the proper input data for each model.\n",
        "\n",
        "* Limit the number of epochs to 100. Set the batch size to or greater than 32.\n",
        "\n",
        "**IMPORTANT:** Comment out the code to train/fit the two models. Keep the code given to save the models.\n",
        "\n",
        "_Points:_ 3"
      ]
    },
    {
      "cell_type": "code",
      "execution_count": 18,
      "metadata": {
        "id": "k4ebmIkMWdIy",
        "outputId": "8e6316b5-390d-4c04-c1ad-06196a3dadc7",
        "colab": {
          "base_uri": "https://localhost:8080/"
        }
      },
      "outputs": [
        {
          "output_type": "stream",
          "name": "stdout",
          "text": [
            "Epoch 1/100\n",
            "659/659 - 34s - 52ms/step - accuracy: 0.3269 - loss: 2.1387 - val_accuracy: 0.2466 - val_loss: 3.1043\n",
            "Epoch 2/100\n",
            "659/659 - 4s - 7ms/step - accuracy: 0.6923 - loss: 0.9347 - val_accuracy: 0.2211 - val_loss: 3.2834\n",
            "Epoch 3/100\n",
            "659/659 - 5s - 7ms/step - accuracy: 0.8415 - loss: 0.5033 - val_accuracy: 0.4681 - val_loss: 1.9060\n",
            "Epoch 4/100\n",
            "659/659 - 6s - 9ms/step - accuracy: 0.8999 - loss: 0.3214 - val_accuracy: 0.5514 - val_loss: 1.7679\n",
            "Epoch 5/100\n",
            "659/659 - 5s - 7ms/step - accuracy: 0.9295 - loss: 0.2317 - val_accuracy: 0.7341 - val_loss: 0.9174\n",
            "Epoch 6/100\n",
            "659/659 - 5s - 7ms/step - accuracy: 0.9456 - loss: 0.1817 - val_accuracy: 0.4755 - val_loss: 2.5561\n",
            "Epoch 7/100\n",
            "659/659 - 4s - 7ms/step - accuracy: 0.9516 - loss: 0.1574 - val_accuracy: 0.3557 - val_loss: 3.9302\n",
            "Epoch 8/100\n",
            "659/659 - 5s - 8ms/step - accuracy: 0.9610 - loss: 0.1352 - val_accuracy: 0.5353 - val_loss: 2.1772\n",
            "Epoch 9/100\n",
            "659/659 - 5s - 8ms/step - accuracy: 0.9660 - loss: 0.1124 - val_accuracy: 0.5232 - val_loss: 2.4267\n",
            "Epoch 10/100\n",
            "659/659 - 5s - 8ms/step - accuracy: 0.9656 - loss: 0.1123 - val_accuracy: 0.6325 - val_loss: 1.5431\n",
            "Epoch 1/100\n",
            "659/659 - 23s - 35ms/step - accuracy: 0.3976 - loss: 1.8611 - val_accuracy: 0.6651 - val_loss: 0.9312\n",
            "Epoch 2/100\n",
            "659/659 - 9s - 14ms/step - accuracy: 0.6742 - loss: 0.9647 - val_accuracy: 0.7749 - val_loss: 0.6059\n",
            "Epoch 3/100\n",
            "659/659 - 3s - 5ms/step - accuracy: 0.7801 - loss: 0.6984 - val_accuracy: 0.8316 - val_loss: 0.5167\n",
            "Epoch 4/100\n",
            "659/659 - 6s - 9ms/step - accuracy: 0.8384 - loss: 0.5728 - val_accuracy: 0.9121 - val_loss: 0.3463\n",
            "Epoch 5/100\n",
            "659/659 - 3s - 5ms/step - accuracy: 0.8685 - loss: 0.5068 - val_accuracy: 0.9150 - val_loss: 0.3723\n",
            "Epoch 6/100\n",
            "659/659 - 3s - 5ms/step - accuracy: 0.8878 - loss: 0.4529 - val_accuracy: 0.9366 - val_loss: 0.2791\n",
            "Epoch 7/100\n",
            "659/659 - 4s - 6ms/step - accuracy: 0.9318 - loss: 0.2871 - val_accuracy: 0.9448 - val_loss: 0.2617\n",
            "Epoch 8/100\n",
            "659/659 - 5s - 7ms/step - accuracy: 0.9077 - loss: 0.4093 - val_accuracy: 0.9736 - val_loss: 0.1216\n",
            "Epoch 9/100\n",
            "659/659 - 3s - 5ms/step - accuracy: 0.9307 - loss: 0.3189 - val_accuracy: 0.9797 - val_loss: 0.0940\n",
            "Epoch 10/100\n",
            "659/659 - 4s - 6ms/step - accuracy: 0.9387 - loss: 0.2703 - val_accuracy: 0.8694 - val_loss: 0.5769\n",
            "Epoch 11/100\n",
            "659/659 - 4s - 5ms/step - accuracy: 0.9393 - loss: 0.2877 - val_accuracy: 0.9723 - val_loss: 0.1337\n",
            "Epoch 12/100\n",
            "659/659 - 4s - 6ms/step - accuracy: 0.9349 - loss: 0.2914 - val_accuracy: 0.9818 - val_loss: 0.0802\n",
            "Epoch 13/100\n",
            "659/659 - 3s - 5ms/step - accuracy: 0.9152 - loss: 0.3654 - val_accuracy: 0.9681 - val_loss: 0.1457\n",
            "Epoch 14/100\n",
            "659/659 - 5s - 8ms/step - accuracy: 0.9612 - loss: 0.1864 - val_accuracy: 0.9810 - val_loss: 0.0931\n",
            "Epoch 15/100\n",
            "659/659 - 3s - 5ms/step - accuracy: 0.9507 - loss: 0.2481 - val_accuracy: 0.9465 - val_loss: 0.2617\n",
            "Epoch 16/100\n",
            "659/659 - 4s - 6ms/step - accuracy: 0.9494 - loss: 0.2462 - val_accuracy: 0.9907 - val_loss: 0.0555\n",
            "Epoch 17/100\n",
            "659/659 - 4s - 6ms/step - accuracy: 0.9770 - loss: 0.1200 - val_accuracy: 0.9461 - val_loss: 0.2520\n",
            "Epoch 18/100\n",
            "659/659 - 3s - 5ms/step - accuracy: 0.9162 - loss: 0.3843 - val_accuracy: 0.9446 - val_loss: 0.2392\n",
            "Epoch 19/100\n",
            "659/659 - 5s - 8ms/step - accuracy: 0.8838 - loss: 0.3559 - val_accuracy: 0.9398 - val_loss: 0.1697\n",
            "Epoch 20/100\n",
            "659/659 - 3s - 5ms/step - accuracy: 0.9186 - loss: 0.2851 - val_accuracy: 0.9651 - val_loss: 0.1045\n",
            "Epoch 21/100\n",
            "659/659 - 3s - 5ms/step - accuracy: 0.9362 - loss: 0.2481 - val_accuracy: 0.9172 - val_loss: 0.3029\n"
          ]
        }
      ],
      "source": [
        "import pickle\n",
        "from tensorflow.keras.callbacks import EarlyStopping, ModelCheckpoint\n",
        "\n",
        "# The following line of code is used by the autograder. Do not modify it.\n",
        "history1, history2 = None, None\n",
        "\n",
        "# Set a seed for reproducibility\n",
        "np.random.seed(42)\n",
        "tf.random.set_seed(42)\n",
        "\n",
        "# Early stopping callback\n",
        "early_stopping = EarlyStopping(monitor='val_loss', patience=5, restore_best_weights=True)\n",
        "\n",
        "# Model checkpoint callbacks\n",
        "model1_checkpoint_cb = ModelCheckpoint(\"best_dnn_bn_model.keras\", save_best_only=True, monitor='val_loss', mode='min')\n",
        "model2_checkpoint_cb = ModelCheckpoint(\"best_dnn_selu_model.keras\", save_best_only=True, monitor='val_loss', mode='min')\n",
        "\n",
        "keras_callbacks_model1 = [early_stopping, model1_checkpoint_cb]\n",
        "keras_callbacks_model2 = [early_stopping, model2_checkpoint_cb]\n",
        "\n",
        "#################################### Perform the training on your machine and then comment out the following section before uploading it to gradescope.\n",
        "# Make sure your best model is named as follows:\n",
        "# # Model1 filename = best_dnn_bn_model.keras\n",
        "# # Model2 filename = best_dnn_selu_model.keras\n",
        "# #Train model 1 (Comment this out before submission)\n",
        "# history1 = model1.fit(train_images, train_labels_encoded,\n",
        "#                       batch_size=32, epochs=100,\n",
        "#                       validation_split=0.2,\n",
        "#                       callbacks=keras_callbacks_model1,\n",
        "#                       verbose=2)\n",
        "\n",
        "# # # # Train model 2 (scaled data)\n",
        "# history2 = model2.fit(train_images_scaled, train_labels_encoded,\n",
        "#                       batch_size=32, epochs=100,\n",
        "#                       validation_split=0.2,\n",
        "#                       callbacks=keras_callbacks_model2,\n",
        "#                       verbose=2)\n",
        "\n",
        "# # # # #The following code will save your history - don't change it.\n",
        "# if 'history1' in globals():\n",
        "#     with open('./history1', 'wb') as file_pi:\n",
        "#         pickle.dump(history1.history, file_pi)\n",
        "# if 'history2' in globals():\n",
        "#     with open('./history2', 'wb') as file_pi:\n",
        "#         pickle.dump(history2.history, file_pi)\n",
        "# # ###################################\n",
        "\n",
        "# The following code is used by the autograder. Do not modify it.\n",
        "step9_sol = (model1_checkpoint_cb, model2_checkpoint_cb, early_stopping)"
      ]
    },
    {
      "cell_type": "code",
      "execution_count": null,
      "metadata": {
        "id": "qbSqkJl9WdIy"
      },
      "outputs": [],
      "source": [
        "\n",
        "grader.check(\"step09\")"
      ]
    },
    {
      "cell_type": "markdown",
      "metadata": {
        "id": "z88hJKXMWdIy"
      },
      "source": [
        "**STEP10** After training, you must now evaluate the performance of the two previously saved models using the test datasets. Each model has different data requirements:\n",
        "* Model 1 should be evaluated using the original test dataset.\n",
        "* Model 2 should be evaluated using the scaled test dataset.\n",
        "Load each model from their saved states, then perform the evaluation. To pass this step, both models must achieve a test accuracy greater than 50%.\n",
        "\n",
        "_Points:_ 2"
      ]
    },
    {
      "cell_type": "code",
      "execution_count": 19,
      "metadata": {
        "id": "EMT_LL20WdIy",
        "outputId": "104c9ca2-ccd3-4b06-80a3-10ac81dade57",
        "colab": {
          "base_uri": "https://localhost:8080/"
        }
      },
      "outputs": [
        {
          "output_type": "stream",
          "name": "stdout",
          "text": [
            "Model 1| Test accuracy: 0.5060, Test loss: 2.0385\n",
            "Model 2| Test accuracy: 0.7930, Test loss: 1.4189\n"
          ]
        }
      ],
      "source": [
        "# Do not change the following 4 lines of code.\n",
        "# define the file name for the saved model\n",
        "model1_name = \"best_dnn_bn_model.keras\"\n",
        "# load the model\n",
        "model1 = keras.models.load_model(model1_name)\n",
        "# define the file name for the saved model\n",
        "model2_name = \"best_dnn_selu_model.keras\"\n",
        "# load the model\n",
        "model2 = keras.models.load_model(model2_name)\n",
        "model1.compile(optimizer=\"nadam\", loss=\"categorical_crossentropy\", metrics=[\"accuracy\"])\n",
        "model2.compile(optimizer=\"nadam\", loss=\"categorical_crossentropy\", metrics=[\"accuracy\"])\n",
        "\n",
        "# Evaluate the models on the test set\n",
        "test_loss1, test_acc1 = model1.evaluate(test_images, test_labels_encoded, verbose=0)\n",
        "test_loss2, test_acc2 = model2.evaluate(test_images_scaled, test_labels_encoded, verbose=0)\n",
        "\n",
        "print(f\"Model 1| Test accuracy: {test_acc1:.4f}, Test loss: {test_loss1:.4f}\")\n",
        "print(f\"Model 2| Test accuracy: {test_acc2:.4f}, Test loss: {test_loss2:.4f}\")\n",
        "\n",
        "# The following code is used by the autograder. Do not modify it.\n",
        "step10_sol = (test_loss1, test_acc1, test_loss2, test_acc2, model1, model2)"
      ]
    },
    {
      "cell_type": "code",
      "execution_count": null,
      "metadata": {
        "id": "umGpEf8WWdIy",
        "outputId": "63fe5ba9-0fb1-4811-b2ce-febbbb102363"
      },
      "outputs": [
        {
          "ename": "NameError",
          "evalue": "name 'grader' is not defined",
          "output_type": "error",
          "traceback": [
            "\u001b[1;31m---------------------------------------------------------------------------\u001b[0m",
            "\u001b[1;31mNameError\u001b[0m                                 Traceback (most recent call last)",
            "Cell \u001b[1;32mIn[62], line 4\u001b[0m\n\u001b[0;32m      1\u001b[0m \u001b[38;5;66;03m# The following code is used by the autograder. Do not modify it.\u001b[39;00m\n\u001b[0;32m      2\u001b[0m step10_sol \u001b[38;5;241m=\u001b[39m (test_loss1, test_acc1, test_loss2, test_acc2, model1, model2)\n\u001b[1;32m----> 4\u001b[0m \u001b[43mgrader\u001b[49m\u001b[38;5;241m.\u001b[39mcheck(\u001b[38;5;124m\"\u001b[39m\u001b[38;5;124mstep10\u001b[39m\u001b[38;5;124m\"\u001b[39m)\n",
            "\u001b[1;31mNameError\u001b[0m: name 'grader' is not defined"
          ]
        }
      ],
      "source": [
        "\n",
        "\n",
        "grader.check(\"step10\")"
      ]
    },
    {
      "cell_type": "markdown",
      "metadata": {
        "id": "5EVlsIRZWdIy"
      },
      "source": [
        "**STEP11** From the loaded history of the two trained models, plot a graph of **accuracy** vs **number of epochs** for both training and validation.\n",
        "\n",
        "_Points:_ 0"
      ]
    },
    {
      "cell_type": "code",
      "execution_count": 20,
      "metadata": {
        "id": "XH9miuL4WdIy",
        "colab": {
          "base_uri": "https://localhost:8080/",
          "height": 487
        },
        "outputId": "94c7f65f-fac0-4ad7-fe4b-6bce8b3acfb5"
      },
      "outputs": [
        {
          "output_type": "display_data",
          "data": {
            "text/plain": [
              "<Figure size 1000x500 with 1 Axes>"
            ],
            "image/png": "[encoded data removed]"
          },
          "metadata": {}
        }
      ],
      "source": [
        "import matplotlib.pyplot as plt\n",
        "\n",
        "# Load history for model 1 (Do not modify this code)\n",
        "history_name1 = \"./history1\"\n",
        "with open(history_name1, \"rb\") as file_pi:\n",
        "    loaded_history1 = pickle.load(file_pi)\n",
        "\n",
        "# Load history for model 2 (Do not modify this code)\n",
        "history_name2 = \"./history2\"\n",
        "with open(history_name2, \"rb\") as file_pi:\n",
        "    loaded_history2 = pickle.load(file_pi)\n",
        "\n",
        "# --- Plot accuracy for Model 1 ---\n",
        "plt.figure(figsize=(10,5))\n",
        "plt.plot(loaded_history1['accuracy'], label='Train Acc (Model 1)')\n",
        "plt.plot(loaded_history1['val_accuracy'], label='Val Acc (Model 1)')\n",
        "\n",
        "# Plot training & validation accuracy for model 2\n",
        "plt.plot(loaded_history2['accuracy'], label='Train Acc (Model 2)', linestyle='--')\n",
        "plt.plot(loaded_history2['val_accuracy'], label='Val Acc (Model 2)', linestyle='--')\n",
        "\n",
        "plt.xlabel('Epochs')\n",
        "plt.ylabel('Accuracy')\n",
        "plt.title('Training & Validation Accuracy for Model 1 and Model 2')\n",
        "plt.legend()\n",
        "plt.grid(True)\n",
        "plt.show()\n",
        "\n",
        "# The following code is used by the autograder. Do not modify it.\n",
        "step11_sol = (loaded_history1, loaded_history2)"
      ]
    },
    {
      "cell_type": "code",
      "execution_count": null,
      "metadata": {
        "id": "9p8damtfWdIy"
      },
      "outputs": [],
      "source": [
        "grader.check(\"step11\")"
      ]
    },
    {
      "cell_type": "markdown",
      "metadata": {
        "id": "dqZsoN5eWdIy"
      },
      "source": [
        "## MC Dropout"
      ]
    },
    {
      "cell_type": "markdown",
      "metadata": {
        "id": "Cg-PHd9ZWdIz"
      },
      "source": [
        "**STEP12** Check if model2 achieves better accuracy using MC Dropout (without retraining).\n",
        "\n",
        "_Points:_ 3"
      ]
    },
    {
      "cell_type": "code",
      "execution_count": null,
      "metadata": {
        "id": "jYLq9z5NWdIz",
        "outputId": "613e83f3-627a-459d-b81e-be27cfe477fe",
        "colab": {
          "base_uri": "https://localhost:8080/"
        }
      },
      "outputs": [
        {
          "output_type": "stream",
          "name": "stdout",
          "text": [
            "Model 2 with MC Dropout: Test accuracy: 0.7677\n"
          ]
        }
      ],
      "source": [
        "#This function computes the MC (Monte Carlo) Dropout predictions for a given model and input data.\n",
        "# It returns the mean of multiple predictions obtained by running the model in training mode.\n",
        "#Parameters\n",
        "#   model: A trained model with a dropout layers.\n",
        "#   X    : The input data for which the predictions are to be made.\n",
        "#   n_samples: The number of Monte Carlo samples to generate..\n",
        "#Returns\n",
        "  # The function returns an array-like object containing the MC Dropout predictions for the given input data.\n",
        "  # The shape of the output should be the same as the model's output layer.\n",
        "# The MC Dropout prediction function\n",
        "def mc_dropout_predict(model, X, n_samples=20):\n",
        "    predictions = []\n",
        "    for _ in range(n_samples):\n",
        "        predictions.append(model(X, training=True))  # Run in training mode to activate Dropout\n",
        "    predictions = np.array(predictions)\n",
        "    mean_predictions = predictions.mean(axis=0)\n",
        "    output_mc = mean_predictions\n",
        "    return output_mc\n",
        "\n",
        "# Compute MC Dropout predictions\n",
        "output_mc = mc_dropout_predict(model2, test_images_scaled, n_samples=20)\n",
        "\n",
        "# Compute MC Dropout accuracy\n",
        "accuracy_mc = np.mean(np.argmax(output_mc, axis=1) == np.argmax(test_labels_encoded, axis=1))\n",
        "\n",
        "# Display result\n",
        "print(f\"Model 2 with MC Dropout: Test accuracy: {accuracy_mc:.4f}\")\n",
        "\n",
        "# The following code is used by the autograder. Do not modify it.\n",
        "step12_sol = (output_mc, accuracy_mc)\n"
      ]
    },
    {
      "cell_type": "code",
      "execution_count": null,
      "metadata": {
        "id": "MvyHB1toWdIz"
      },
      "outputs": [],
      "source": [
        "grader.check(\"step12\")"
      ]
    },
    {
      "cell_type": "markdown",
      "metadata": {
        "id": "BMshAX8VWdIz"
      },
      "source": [
        "## Learning Rate (LR) scheduling"
      ]
    },
    {
      "cell_type": "markdown",
      "metadata": {
        "id": "_fZ5ITq6WdIz"
      },
      "source": [
        "**STEP13** Retrain model1 using performance scheduling and see if it improves training speed and model accuracy.\n",
        "\n",
        "**IMPORTANT:** Define the model the same way model1 was defined and compile the model the same way as model1.\n",
        "\n",
        "_Points:_ 2"
      ]
    },
    {
      "cell_type": "code",
      "execution_count": 24,
      "metadata": {
        "id": "S8m6rOBMWdIz",
        "outputId": "d1eb6cc1-38e7-4735-cffc-767b59663eaf",
        "colab": {
          "base_uri": "https://localhost:8080/"
        }
      },
      "outputs": [
        {
          "output_type": "stream",
          "name": "stdout",
          "text": [
            "Epoch 1/100\n",
            "659/659 - 10s - 15ms/step - accuracy: 0.7961 - loss: 0.7707 - val_accuracy: 0.4848 - val_loss: 1.6495 - learning_rate: 1.0000e-03\n",
            "Epoch 2/100\n",
            "659/659 - 6s - 9ms/step - accuracy: 0.9724 - loss: 0.1067 - val_accuracy: 0.3028 - val_loss: 4.3610 - learning_rate: 1.0000e-03\n",
            "Epoch 3/100\n",
            "659/659 - 3s - 5ms/step - accuracy: 0.9878 - loss: 0.0474 - val_accuracy: 0.2658 - val_loss: 4.7710 - learning_rate: 1.0000e-03\n",
            "Epoch 4/100\n",
            "659/659 - 5s - 7ms/step - accuracy: 0.9820 - loss: 0.0609 - val_accuracy: 0.3703 - val_loss: 3.5822 - learning_rate: 1.0000e-03\n",
            "Epoch 5/100\n",
            "659/659 - 2s - 4ms/step - accuracy: 0.9979 - loss: 0.0111 - val_accuracy: 1.0000 - val_loss: 8.7211e-04 - learning_rate: 5.0000e-04\n",
            "Epoch 6/100\n",
            "659/659 - 2s - 3ms/step - accuracy: 1.0000 - loss: 0.0018 - val_accuracy: 1.0000 - val_loss: 1.4451e-04 - learning_rate: 5.0000e-04\n",
            "Epoch 7/100\n",
            "659/659 - 3s - 5ms/step - accuracy: 1.0000 - loss: 0.0010 - val_accuracy: 1.0000 - val_loss: 9.2345e-05 - learning_rate: 5.0000e-04\n",
            "Epoch 8/100\n",
            "659/659 - 2s - 4ms/step - accuracy: 1.0000 - loss: 7.1993e-04 - val_accuracy: 1.0000 - val_loss: 6.3776e-05 - learning_rate: 5.0000e-04\n",
            "Epoch 9/100\n",
            "659/659 - 2s - 3ms/step - accuracy: 1.0000 - loss: 5.2309e-04 - val_accuracy: 1.0000 - val_loss: 4.4162e-05 - learning_rate: 5.0000e-04\n",
            "Epoch 10/100\n",
            "659/659 - 3s - 4ms/step - accuracy: 1.0000 - loss: 3.8239e-04 - val_accuracy: 1.0000 - val_loss: 3.0673e-05 - learning_rate: 5.0000e-04\n",
            "Epoch 11/100\n",
            "659/659 - 3s - 4ms/step - accuracy: 1.0000 - loss: 2.8021e-04 - val_accuracy: 1.0000 - val_loss: 2.1828e-05 - learning_rate: 5.0000e-04\n",
            "Epoch 12/100\n",
            "659/659 - 3s - 4ms/step - accuracy: 1.0000 - loss: 2.0496e-04 - val_accuracy: 1.0000 - val_loss: 1.5102e-05 - learning_rate: 5.0000e-04\n",
            "Epoch 13/100\n",
            "659/659 - 2s - 3ms/step - accuracy: 1.0000 - loss: 1.5417e-04 - val_accuracy: 1.0000 - val_loss: 1.0533e-05 - learning_rate: 2.5000e-04\n",
            "Epoch 14/100\n",
            "659/659 - 3s - 4ms/step - accuracy: 1.0000 - loss: 1.2890e-04 - val_accuracy: 1.0000 - val_loss: 8.6250e-06 - learning_rate: 2.5000e-04\n",
            "Epoch 15/100\n",
            "659/659 - 2s - 3ms/step - accuracy: 1.0000 - loss: 1.0531e-04 - val_accuracy: 1.0000 - val_loss: 6.8652e-06 - learning_rate: 2.5000e-04\n",
            "Epoch 16/100\n",
            "659/659 - 3s - 4ms/step - accuracy: 1.0000 - loss: 8.5809e-05 - val_accuracy: 1.0000 - val_loss: 5.2862e-06 - learning_rate: 1.2500e-04\n",
            "Epoch 17/100\n",
            "659/659 - 3s - 4ms/step - accuracy: 1.0000 - loss: 7.4885e-05 - val_accuracy: 1.0000 - val_loss: 4.5339e-06 - learning_rate: 1.2500e-04\n",
            "Epoch 18/100\n",
            "659/659 - 5s - 7ms/step - accuracy: 1.0000 - loss: 6.3680e-05 - val_accuracy: 1.0000 - val_loss: 3.7334e-06 - learning_rate: 1.2500e-04\n",
            "Epoch 19/100\n",
            "659/659 - 3s - 4ms/step - accuracy: 1.0000 - loss: 5.3632e-05 - val_accuracy: 1.0000 - val_loss: 3.0282e-06 - learning_rate: 6.2500e-05\n",
            "Epoch 20/100\n",
            "659/659 - 3s - 4ms/step - accuracy: 1.0000 - loss: 4.7729e-05 - val_accuracy: 1.0000 - val_loss: 2.6461e-06 - learning_rate: 6.2500e-05\n",
            "Epoch 21/100\n",
            "659/659 - 3s - 4ms/step - accuracy: 1.0000 - loss: 4.1482e-05 - val_accuracy: 1.0000 - val_loss: 2.2614e-06 - learning_rate: 6.2500e-05\n",
            "Epoch 22/100\n",
            "659/659 - 5s - 7ms/step - accuracy: 1.0000 - loss: 3.5633e-05 - val_accuracy: 1.0000 - val_loss: 1.8369e-06 - learning_rate: 3.1250e-05\n",
            "Epoch 23/100\n",
            "659/659 - 2s - 4ms/step - accuracy: 1.0000 - loss: 3.2177e-05 - val_accuracy: 1.0000 - val_loss: 1.6377e-06 - learning_rate: 3.1250e-05\n",
            "Epoch 24/100\n",
            "659/659 - 3s - 4ms/step - accuracy: 1.0000 - loss: 2.8468e-05 - val_accuracy: 1.0000 - val_loss: 1.4205e-06 - learning_rate: 3.1250e-05\n",
            "Epoch 25/100\n",
            "659/659 - 3s - 4ms/step - accuracy: 1.0000 - loss: 2.4930e-05 - val_accuracy: 1.0000 - val_loss: 1.1993e-06 - learning_rate: 1.5625e-05\n",
            "Epoch 26/100\n",
            "659/659 - 2s - 3ms/step - accuracy: 1.0000 - loss: 2.2857e-05 - val_accuracy: 1.0000 - val_loss: 1.0855e-06 - learning_rate: 1.5625e-05\n",
            "Epoch 27/100\n",
            "659/659 - 3s - 4ms/step - accuracy: 1.0000 - loss: 2.0660e-05 - val_accuracy: 1.0000 - val_loss: 9.7405e-07 - learning_rate: 1.5625e-05\n",
            "Epoch 28/100\n",
            "659/659 - 3s - 4ms/step - accuracy: 1.0000 - loss: 1.8559e-05 - val_accuracy: 1.0000 - val_loss: 8.3567e-07 - learning_rate: 7.8125e-06\n",
            "Epoch 29/100\n",
            "659/659 - 3s - 5ms/step - accuracy: 1.0000 - loss: 1.7376e-05 - val_accuracy: 1.0000 - val_loss: 7.7419e-07 - learning_rate: 7.8125e-06\n",
            "Epoch 30/100\n",
            "659/659 - 4s - 6ms/step - accuracy: 1.0000 - loss: 1.6154e-05 - val_accuracy: 1.0000 - val_loss: 7.1011e-07 - learning_rate: 7.8125e-06\n",
            "Epoch 31/100\n",
            "659/659 - 2s - 3ms/step - accuracy: 1.0000 - loss: 1.4992e-05 - val_accuracy: 1.0000 - val_loss: 6.4639e-07 - learning_rate: 3.9063e-06\n",
            "Epoch 32/100\n",
            "659/659 - 2s - 3ms/step - accuracy: 1.0000 - loss: 1.4368e-05 - val_accuracy: 1.0000 - val_loss: 6.1417e-07 - learning_rate: 3.9063e-06\n",
            "Epoch 33/100\n",
            "659/659 - 3s - 4ms/step - accuracy: 1.0000 - loss: 1.3738e-05 - val_accuracy: 1.0000 - val_loss: 5.8181e-07 - learning_rate: 3.9063e-06\n",
            "Epoch 34/100\n",
            "659/659 - 2s - 4ms/step - accuracy: 1.0000 - loss: 1.3140e-05 - val_accuracy: 1.0000 - val_loss: 5.5221e-07 - learning_rate: 1.9531e-06\n",
            "Epoch 35/100\n",
            "659/659 - 2s - 4ms/step - accuracy: 1.0000 - loss: 1.2829e-05 - val_accuracy: 1.0000 - val_loss: 5.3594e-07 - learning_rate: 1.9531e-06\n",
            "Epoch 36/100\n",
            "659/659 - 2s - 3ms/step - accuracy: 1.0000 - loss: 1.2518e-05 - val_accuracy: 1.0000 - val_loss: 5.2144e-07 - learning_rate: 1.9531e-06\n",
            "Epoch 37/100\n",
            "659/659 - 3s - 4ms/step - accuracy: 1.0000 - loss: 1.2221e-05 - val_accuracy: 1.0000 - val_loss: 5.0874e-07 - learning_rate: 9.7656e-07\n",
            "Epoch 38/100\n",
            "659/659 - 3s - 4ms/step - accuracy: 1.0000 - loss: 1.2069e-05 - val_accuracy: 1.0000 - val_loss: 5.0112e-07 - learning_rate: 9.7656e-07\n",
            "Epoch 39/100\n",
            "659/659 - 2s - 4ms/step - accuracy: 1.0000 - loss: 1.1916e-05 - val_accuracy: 1.0000 - val_loss: 4.9243e-07 - learning_rate: 9.7656e-07\n",
            "Epoch 40/100\n",
            "659/659 - 2s - 4ms/step - accuracy: 1.0000 - loss: 1.1769e-05 - val_accuracy: 1.0000 - val_loss: 4.8650e-07 - learning_rate: 4.8828e-07\n",
            "Epoch 41/100\n",
            "659/659 - 2s - 3ms/step - accuracy: 1.0000 - loss: 1.1693e-05 - val_accuracy: 1.0000 - val_loss: 4.8288e-07 - learning_rate: 4.8828e-07\n",
            "Epoch 42/100\n",
            "659/659 - 3s - 4ms/step - accuracy: 1.0000 - loss: 1.1618e-05 - val_accuracy: 1.0000 - val_loss: 4.7903e-07 - learning_rate: 4.8828e-07\n",
            "Epoch 43/100\n",
            "659/659 - 3s - 5ms/step - accuracy: 1.0000 - loss: 1.1544e-05 - val_accuracy: 1.0000 - val_loss: 4.7631e-07 - learning_rate: 2.4414e-07\n",
            "Epoch 44/100\n",
            "659/659 - 4s - 7ms/step - accuracy: 1.0000 - loss: 1.1507e-05 - val_accuracy: 1.0000 - val_loss: 4.7430e-07 - learning_rate: 2.4414e-07\n",
            "Epoch 45/100\n",
            "659/659 - 2s - 4ms/step - accuracy: 1.0000 - loss: 1.1469e-05 - val_accuracy: 1.0000 - val_loss: 4.7256e-07 - learning_rate: 2.4414e-07\n",
            "Epoch 46/100\n",
            "659/659 - 2s - 4ms/step - accuracy: 1.0000 - loss: 1.1433e-05 - val_accuracy: 1.0000 - val_loss: 4.7097e-07 - learning_rate: 1.2207e-07\n",
            "Epoch 47/100\n",
            "659/659 - 3s - 4ms/step - accuracy: 1.0000 - loss: 1.1415e-05 - val_accuracy: 1.0000 - val_loss: 4.6989e-07 - learning_rate: 1.2207e-07\n",
            "Epoch 48/100\n",
            "659/659 - 4s - 7ms/step - accuracy: 1.0000 - loss: 1.1397e-05 - val_accuracy: 1.0000 - val_loss: 4.6878e-07 - learning_rate: 1.2207e-07\n",
            "Epoch 49/100\n",
            "659/659 - 2s - 3ms/step - accuracy: 1.0000 - loss: 1.1379e-05 - val_accuracy: 1.0000 - val_loss: 4.6810e-07 - learning_rate: 6.1035e-08\n",
            "Epoch 50/100\n",
            "659/659 - 2s - 4ms/step - accuracy: 1.0000 - loss: 1.1372e-05 - val_accuracy: 1.0000 - val_loss: 4.6776e-07 - learning_rate: 6.1035e-08\n",
            "Epoch 51/100\n",
            "659/659 - 3s - 4ms/step - accuracy: 1.0000 - loss: 1.1364e-05 - val_accuracy: 1.0000 - val_loss: 4.6720e-07 - learning_rate: 6.1035e-08\n",
            "Epoch 52/100\n",
            "659/659 - 5s - 7ms/step - accuracy: 1.0000 - loss: 1.1357e-05 - val_accuracy: 1.0000 - val_loss: 4.6701e-07 - learning_rate: 3.0518e-08\n",
            "Epoch 53/100\n",
            "659/659 - 2s - 3ms/step - accuracy: 1.0000 - loss: 1.1353e-05 - val_accuracy: 1.0000 - val_loss: 4.6692e-07 - learning_rate: 3.0518e-08\n",
            "Epoch 54/100\n",
            "659/659 - 3s - 4ms/step - accuracy: 1.0000 - loss: 1.1350e-05 - val_accuracy: 1.0000 - val_loss: 4.6674e-07 - learning_rate: 3.0518e-08\n",
            "Epoch 55/100\n",
            "659/659 - 3s - 5ms/step - accuracy: 1.0000 - loss: 1.1347e-05 - val_accuracy: 1.0000 - val_loss: 4.6663e-07 - learning_rate: 1.5259e-08\n",
            "Epoch 56/100\n",
            "659/659 - 2s - 3ms/step - accuracy: 1.0000 - loss: 1.1346e-05 - val_accuracy: 1.0000 - val_loss: 4.6647e-07 - learning_rate: 1.5259e-08\n",
            "Epoch 57/100\n",
            "659/659 - 2s - 4ms/step - accuracy: 1.0000 - loss: 1.1345e-05 - val_accuracy: 1.0000 - val_loss: 4.6636e-07 - learning_rate: 1.5259e-08\n",
            "Epoch 58/100\n",
            "659/659 - 3s - 4ms/step - accuracy: 1.0000 - loss: 1.1343e-05 - val_accuracy: 1.0000 - val_loss: 4.6631e-07 - learning_rate: 7.6294e-09\n",
            "Epoch 59/100\n",
            "659/659 - 5s - 8ms/step - accuracy: 1.0000 - loss: 1.1343e-05 - val_accuracy: 1.0000 - val_loss: 4.6627e-07 - learning_rate: 7.6294e-09\n",
            "Epoch 60/100\n",
            "659/659 - 2s - 3ms/step - accuracy: 1.0000 - loss: 1.1343e-05 - val_accuracy: 1.0000 - val_loss: 4.6627e-07 - learning_rate: 7.6294e-09\n",
            "Epoch 61/100\n",
            "659/659 - 2s - 4ms/step - accuracy: 1.0000 - loss: 1.1342e-05 - val_accuracy: 1.0000 - val_loss: 4.6627e-07 - learning_rate: 3.8147e-09\n",
            "Epoch 62/100\n",
            "659/659 - 2s - 3ms/step - accuracy: 1.0000 - loss: 1.1342e-05 - val_accuracy: 1.0000 - val_loss: 4.6627e-07 - learning_rate: 3.8147e-09\n",
            "Epoch 63/100\n",
            "659/659 - 2s - 4ms/step - accuracy: 1.0000 - loss: 1.1342e-05 - val_accuracy: 1.0000 - val_loss: 4.6622e-07 - learning_rate: 3.8147e-09\n",
            "Epoch 64/100\n",
            "659/659 - 3s - 4ms/step - accuracy: 1.0000 - loss: 1.1342e-05 - val_accuracy: 1.0000 - val_loss: 4.6622e-07 - learning_rate: 1.9073e-09\n",
            "Epoch 65/100\n",
            "659/659 - 2s - 4ms/step - accuracy: 1.0000 - loss: 1.1342e-05 - val_accuracy: 1.0000 - val_loss: 4.6622e-07 - learning_rate: 1.9073e-09\n",
            "Epoch 66/100\n",
            "659/659 - 2s - 3ms/step - accuracy: 1.0000 - loss: 1.1342e-05 - val_accuracy: 1.0000 - val_loss: 4.6622e-07 - learning_rate: 1.9073e-09\n",
            "Epoch 67/100\n",
            "659/659 - 3s - 4ms/step - accuracy: 1.0000 - loss: 1.1342e-05 - val_accuracy: 1.0000 - val_loss: 4.6622e-07 - learning_rate: 9.5367e-10\n",
            "Epoch 68/100\n",
            "659/659 - 3s - 4ms/step - accuracy: 1.0000 - loss: 1.1342e-05 - val_accuracy: 1.0000 - val_loss: 4.6622e-07 - learning_rate: 9.5367e-10\n",
            "Epoch 69/100\n",
            "659/659 - 3s - 4ms/step - accuracy: 1.0000 - loss: 1.1342e-05 - val_accuracy: 1.0000 - val_loss: 4.6622e-07 - learning_rate: 9.5367e-10\n",
            "Epoch 70/100\n",
            "659/659 - 5s - 7ms/step - accuracy: 1.0000 - loss: 1.1342e-05 - val_accuracy: 1.0000 - val_loss: 4.6622e-07 - learning_rate: 4.7684e-10\n",
            "Epoch 71/100\n",
            "659/659 - 2s - 4ms/step - accuracy: 1.0000 - loss: 1.1342e-05 - val_accuracy: 1.0000 - val_loss: 4.6622e-07 - learning_rate: 4.7684e-10\n",
            "Epoch 72/100\n",
            "659/659 - 3s - 4ms/step - accuracy: 1.0000 - loss: 1.1342e-05 - val_accuracy: 1.0000 - val_loss: 4.6622e-07 - learning_rate: 4.7684e-10\n",
            "Epoch 73/100\n",
            "659/659 - 3s - 4ms/step - accuracy: 1.0000 - loss: 1.1342e-05 - val_accuracy: 1.0000 - val_loss: 4.6622e-07 - learning_rate: 2.3842e-10\n"
          ]
        }
      ],
      "source": [
        "# import ReduceLROnPlateau\n",
        "from tensorflow.keras.callbacks import EarlyStopping, ReduceLROnPlateau, ModelCheckpoint\n",
        "from tensorflow.keras.optimizers import Nadam\n",
        "\n",
        "# Do not modify the following line of code.\n",
        "history1_perf = None\n",
        "\n",
        "# Redefine Model 1\n",
        "model1_perfLRS = keras.models.Sequential([\n",
        "    keras.layers.Input(shape=[784]),  # use the flattened shape\n",
        "    keras.layers.Dense(100, activation=None),\n",
        "    keras.layers.BatchNormalization(),\n",
        "    keras.layers.Activation('relu'),\n",
        "    keras.layers.Dense(100, activation=None),\n",
        "    keras.layers.BatchNormalization(),\n",
        "    keras.layers.Activation('relu'),\n",
        "    keras.layers.Dense(100, activation=None),\n",
        "    keras.layers.BatchNormalization(),\n",
        "    keras.layers.Activation('relu'),\n",
        "    keras.layers.Dense(100, activation=None),\n",
        "    keras.layers.BatchNormalization(),\n",
        "    keras.layers.Activation('relu'),\n",
        "    keras.layers.Dense(24, activation='softmax')\n",
        "])\n",
        "\n",
        "\n",
        "model1_perfLRS.compile(optimizer=Nadam(learning_rate=0.001), loss=\"categorical_crossentropy\", metrics=[\"accuracy\"])\n",
        "\n",
        "early_stopping_cb = EarlyStopping(monitor='val_loss', patience=10, restore_best_weights=True)\n",
        "# Compile the model with Nadam optimizer and categorical cross-entropy loss\n",
        "\n",
        "\n",
        "lr_scheduler = ReduceLROnPlateau(monitor='val_loss', factor=0.5, patience=3)\n",
        "\n",
        "# Creating model checkpoint to save the best model.\n",
        "dnn_bn_perf_checkpoint_cb = ModelCheckpoint(\"best_dnn_bn_perf_model.keras\", save_best_only=True, monitor='val_loss', mode='min')\n",
        "\n",
        "#####Perform the training on your machine and then comment out the following section before uploading it to gradescope.\n",
        "####################################\n",
        "# Make sure your best model is named as follows:\n",
        "# Model1 with performance scheduling filename = best_dnn_bn_perf_model.keras\n",
        "\n",
        "\n",
        "# # Train the model using early stopping and exponential scheduling (Comment this out before submission)\n",
        "# history1_perf = model1_perfLRS.fit(\n",
        "#     train_images,\n",
        "#     train_labels_encoded,\n",
        "#     batch_size=32,\n",
        "#     epochs=100,\n",
        "#     validation_split=0.2,\n",
        "#     callbacks=[early_stopping_cb, lr_scheduler, dnn_bn_perf_checkpoint_cb],\n",
        "#     verbose=2\n",
        "# )\n",
        "\n",
        "# # # # # # The following code will save your history - don't change it - comment it out before uploading to GS\n",
        "# if \"history1_perf\" in globals():\n",
        "#     with open('./history1_perf', 'wb') as file_pi:\n",
        "#         pickle.dump(history1_perf.history, file_pi)\n",
        "####################################\n",
        "# The following code is used by the autograder. Do not modify it.\n",
        "step13_sol = (dnn_bn_perf_checkpoint_cb, lr_scheduler)"
      ]
    },
    {
      "cell_type": "code",
      "execution_count": null,
      "metadata": {
        "id": "4UbwgF4sWdI0"
      },
      "outputs": [],
      "source": [
        "grader.check(\"step13\")"
      ]
    },
    {
      "cell_type": "markdown",
      "metadata": {
        "id": "s07sKnezWdI0"
      },
      "source": [
        "**STEP14** Using the loaded model obtained from the code given below, evaluate the performance of the model on the test set.\n",
        "\n",
        "_Points:_ 1"
      ]
    },
    {
      "cell_type": "code",
      "execution_count": 25,
      "metadata": {
        "id": "UsGeRudsWdI0",
        "outputId": "3b761094-62eb-4d74-b1a2-ebd731db4b42",
        "colab": {
          "base_uri": "https://localhost:8080/"
        }
      },
      "outputs": [
        {
          "output_type": "stream",
          "name": "stdout",
          "text": [
            "Model 1 with LR Scheduler | Test accuracy: 0.8256, Test loss: 1.0200\n"
          ]
        }
      ],
      "source": [
        "# Do not change the following 2 lines of code.\n",
        "# define the file name for the saved model\n",
        "model_name = \"best_dnn_bn_perf_model.keras\"\n",
        "# load the model\n",
        "model1_perf = keras.models.load_model(model_name)\n",
        "\n",
        "# Evaluate the model on the test set and find loss and accuracy\n",
        "test_loss1_perf, test_acc1_perf = model1_perf.evaluate(test_images, test_labels_encoded, verbose=0)\n",
        "\n",
        "print(f\"Model 1 with LR Scheduler | Test accuracy: {test_acc1_perf:.4f}, Test loss: {test_loss1_perf:.4f}\")\n",
        "\n",
        "# The following code is used by the autograder. Do not modify it.\n",
        "step14_sol = (test_loss1_perf, test_acc1_perf)"
      ]
    },
    {
      "cell_type": "code",
      "execution_count": null,
      "metadata": {
        "id": "ZnTFyMTXWdI0"
      },
      "outputs": [],
      "source": [
        "grader.check(\"step14\")"
      ]
    },
    {
      "cell_type": "markdown",
      "metadata": {
        "id": "u4vRh9CcWdI0"
      },
      "source": [
        "<!-- BEGIN QUESTION -->\n",
        "\n",
        "**STEP15** From the history of the models loaded using the code given below, plot a graph of **accuracy** vs **number of epochs** for both training and validation.\n",
        "\n",
        "_Points:_ 0"
      ]
    },
    {
      "cell_type": "code",
      "execution_count": 26,
      "metadata": {
        "id": "nmga0WxrWdI0",
        "outputId": "7ca95fe1-f8de-4e61-b923-9248c513d6e0",
        "colab": {
          "base_uri": "https://localhost:8080/",
          "height": 957
        }
      },
      "outputs": [
        {
          "output_type": "display_data",
          "data": {
            "text/plain": [
              "<Figure size 800x500 with 1 Axes>"
            ],
            "image/png": "[encoded data removed]"
          },
          "metadata": {}
        },
        {
          "output_type": "display_data",
          "data": {
            "text/plain": [
              "<Figure size 800x500 with 1 Axes>"
            ],
            "image/png": "[encoded data removed]"
          },
          "metadata": {}
        }
      ],
      "source": [
        "# load history for model 1 with learning rate scheduling (do not modify the following code)\n",
        "history_name1_perf = \"./history1_perf\"\n",
        "with open(history_name1_perf, \"rb\") as file_pi:\n",
        "    loaded_history1_perf = pickle.load(file_pi)\n",
        "\n",
        "# Load history for the original model1 (do not modify the following code)\n",
        "history_name1 = \"./history1\"\n",
        "with open(history_name1, \"rb\") as file_pi:\n",
        "    loaded_history1 = pickle.load(file_pi)\n",
        "\n",
        "# Plot the training and validation accuracy for both models\n",
        "pd.DataFrame(loaded_history1_perf).plot(\n",
        "    figsize=(8,5), xlim=[0,29], ylim=[0,1], grid=True, xlabel =\"Epoch\",ylabel=\"Accuracy\", title=\"Model 1 Accuracy vs Epochs\", style=[\"r--\", \"r--\", \"b-\", \"b-*\"])\n",
        "plt.legend([\"train_accuracy\", \"val_accuracy\"])\n",
        "plt.show()\n",
        "\n",
        "pd.DataFrame(loaded_history1).plot(\n",
        "    figsize=(8,5), xlim=[0,29], ylim=[0,1], grid=True, xlabel =\"Epoch\", ylabel=\"Accuracy\", title=\"Model 2 Accuracy vs Epochs\",style=[\"r--\", \"r--\", \"b-\", \"b-*\"])\n",
        "plt.legend([\"train_accuracy\", \"val_accuracy\"])\n",
        "plt.show()"
      ]
    },
    {
      "cell_type": "code",
      "execution_count": null,
      "metadata": {
        "id": "Hd_GyOhlWdI0"
      },
      "outputs": [],
      "source": [
        "grader.check(\"step15\")"
      ]
    },
    {
      "cell_type": "markdown",
      "metadata": {
        "id": "yCKK-p0LWdI0"
      },
      "source": [
        "<!-- END QUESTION -->\n",
        "\n",
        "## Transfer learning\n",
        "\n",
        "Use transfer learning by using a pre-trained **MobileNetV3Small** model on imagenet dataset, and fine-tuning it on the Sign Language MNIST dataset."
      ]
    },
    {
      "cell_type": "markdown",
      "metadata": {
        "id": "yMmkHauiWdI0"
      },
      "source": [
        "**STEP16** First of all, you to prepare your data for this model.\n",
        "* Reshape your input data (train and test) to (28, 28, 3).\n",
        "* Standardize your input.\n",
        "\n",
        "_Points:_ 2"
      ]
    },
    {
      "cell_type": "code",
      "execution_count": 27,
      "metadata": {
        "id": "coqbTTkrWdI0"
      },
      "outputs": [],
      "source": [
        "train_images_mb = train_images.reshape(-1, 28, 28, 1)\n",
        "test_images_mb = test_images.reshape(-1, 28, 28, 1)\n",
        "\n",
        "# Convert grayscale (1 channel) to RGB (3 channels) by repeating the single channel\n",
        "train_images_mb = np.repeat(train_images_mb, 3, axis=-1)\n",
        "test_images_mb = np.repeat(test_images_mb, 3, axis=-1)\n",
        "\n",
        "# Standardize to [-1, 1] range\n",
        "train_images_mb = (train_images_mb - 0.5) * 2.0\n",
        "test_images_mb = (test_images_mb - 0.5) * 2.0\n",
        "\n",
        "# The following code is used by the autograder. Do not modify it.\n",
        "step16_sol = (train_images_mb,test_images_mb)"
      ]
    },
    {
      "cell_type": "code",
      "execution_count": null,
      "metadata": {
        "id": "z4LKSkg7WdI1"
      },
      "outputs": [],
      "source": [
        "grader.check(\"step16\")"
      ]
    },
    {
      "cell_type": "markdown",
      "metadata": {
        "id": "iQ1Wg6Y8WdI1"
      },
      "source": [
        "**Step17** Now, we need to define and set up the model. For this you need to follow the next steps:\n",
        "\n",
        "* Load the pre-trained **MobileNetV3Small** model with weights from ImageNet.\n",
        "* Modify the model to accept inputs of shape (56, 56, 3).\n",
        "* Freeze the weights of the pretrained layers.*\n",
        "* Add input layer that take an image of shape (28,28,3), then a layer `UpSampling2D` to upscale the input by a factor of 2 so they can go through the network.\n",
        "\n",
        "Consider that maybe you need to adapt the default output.\n",
        "\n",
        "_Points:_ 2"
      ]
    },
    {
      "cell_type": "code",
      "execution_count": 34,
      "metadata": {
        "id": "yImDcxhRWdI1"
      },
      "outputs": [],
      "source": [
        "from tensorflow.keras.applications import MobileNetV3Small\n",
        "from tensorflow.keras.layers import Input, UpSampling2D, Dense, GlobalAveragePooling2D\n",
        "from tensorflow.keras.models import Model\n",
        "\n",
        "# Load the pre-trained MobileNet model with weights from ImageNet\n",
        "base_mb_model = MobileNetV3Small(\n",
        "    input_shape=(56, 56, 3),\n",
        "    include_top=False,\n",
        "    weights='imagenet'\n",
        ")\n",
        "\n",
        "base_mb_model.trainable = False\n",
        "\n",
        "# Create new input layer for (28, 28, 1)\n",
        "input_layer = Input(shape=(28, 28, 3))\n",
        "# Upscale to (56, 56, 3)\n",
        "x = UpSampling2D(size=(2, 2))(input_layer)\n",
        "\n",
        "# Pass through base model\n",
        "x = base_mb_model(x, training=False)\n",
        "\n",
        "# Classification head (improved)\n",
        "x = GlobalAveragePooling2D()(x)\n",
        "x = Dense(128, activation='relu')(x)\n",
        "x = tf.keras.layers.Dropout(0.3)(x)\n",
        "output_layer = Dense(24, activation='softmax')(x)\n",
        "\n",
        "# Final model\n",
        "final_mb_model = Model(inputs=input_layer, outputs=output_layer)\n",
        "\n",
        "# The following code is used by the autograder. Do not modify it.\n",
        "step17_sol = final_mb_model"
      ]
    },
    {
      "cell_type": "code",
      "execution_count": null,
      "metadata": {
        "id": "f1ZrfNrtWdI1"
      },
      "outputs": [],
      "source": [
        "grader.check(\"step17\")"
      ]
    },
    {
      "cell_type": "markdown",
      "metadata": {
        "id": "128r_zB8WdI1"
      },
      "source": [
        "**Step18** Once we define the model and do the specific modifications to adjust to our data, we compile it.\n",
        "\n",
        "* Use a learning rate schedule that uses an exponential decay schedule.\n",
        "* Compile and train the model.\n",
        "\n",
        "_Points:_ 2"
      ]
    },
    {
      "cell_type": "code",
      "execution_count": 37,
      "metadata": {
        "id": "ZQga_O_lWdI1"
      },
      "outputs": [],
      "source": [
        "from tensorflow.keras.optimizers import Nadam\n",
        "from tensorflow.keras.optimizers.schedules import ExponentialDecay\n",
        "\n",
        "# Define an initial learning rate\n",
        "initial_learning_rate = 0.001\n",
        "\n",
        "# Create the proper Learning rate schedule\n",
        "lr_schedule = ExponentialDecay(\n",
        "    initial_learning_rate=initial_learning_rate,\n",
        "    decay_steps=10000,\n",
        "    decay_rate=0.9\n",
        ")\n",
        "\n",
        "final_mb_model.compile(\n",
        "    optimizer=Nadam(learning_rate=lr_schedule),\n",
        "    loss=\"categorical_crossentropy\",\n",
        "    metrics=[\"accuracy\"]\n",
        ")\n",
        "# The following code is used by the autograder. Do not modify it.\n",
        "step18_sol = (lr_schedule, final_mb_model)"
      ]
    },
    {
      "cell_type": "code",
      "execution_count": null,
      "metadata": {
        "id": "t8nPhIGNWdI1"
      },
      "outputs": [],
      "source": [
        "grader.check(\"step18\")"
      ]
    },
    {
      "cell_type": "markdown",
      "metadata": {
        "id": "6U-ZvVCpWdI1"
      },
      "source": [
        "**Step19** Train the mobilenet model. Include early stopping in your training procedure.\n",
        "\n",
        "_Points:_ 2"
      ]
    },
    {
      "cell_type": "code",
      "execution_count": 38,
      "metadata": {
        "id": "zbyJZY0OWdI1",
        "outputId": "c3a0cc6f-552a-4909-bf4a-4ffcf685aaf6",
        "colab": {
          "base_uri": "https://localhost:8080/"
        }
      },
      "outputs": [
        {
          "output_type": "stream",
          "name": "stdout",
          "text": [
            "Epoch 1/100\n",
            "659/659 - 28s - 42ms/step - accuracy: 0.1066 - loss: 2.9795 - val_accuracy: 0.1726 - val_loss: 2.7571\n",
            "Epoch 2/100\n",
            "659/659 - 5s - 8ms/step - accuracy: 0.1748 - loss: 2.6534 - val_accuracy: 0.2652 - val_loss: 2.4466\n",
            "Epoch 3/100\n",
            "659/659 - 4s - 6ms/step - accuracy: 0.2237 - loss: 2.4315 - val_accuracy: 0.3305 - val_loss: 2.2418\n",
            "Epoch 4/100\n",
            "659/659 - 6s - 9ms/step - accuracy: 0.2761 - loss: 2.2569 - val_accuracy: 0.3842 - val_loss: 2.0545\n",
            "Epoch 5/100\n",
            "659/659 - 5s - 7ms/step - accuracy: 0.3153 - loss: 2.1133 - val_accuracy: 0.4191 - val_loss: 1.9144\n",
            "Epoch 6/100\n",
            "659/659 - 4s - 7ms/step - accuracy: 0.3440 - loss: 2.0044 - val_accuracy: 0.4468 - val_loss: 1.8044\n",
            "Epoch 7/100\n",
            "659/659 - 5s - 8ms/step - accuracy: 0.3600 - loss: 1.9251 - val_accuracy: 0.4565 - val_loss: 1.7344\n",
            "Epoch 8/100\n",
            "659/659 - 5s - 8ms/step - accuracy: 0.3820 - loss: 1.8571 - val_accuracy: 0.4748 - val_loss: 1.6608\n",
            "Epoch 9/100\n",
            "659/659 - 5s - 8ms/step - accuracy: 0.3958 - loss: 1.7900 - val_accuracy: 0.4949 - val_loss: 1.6078\n",
            "Epoch 10/100\n",
            "659/659 - 4s - 6ms/step - accuracy: 0.4071 - loss: 1.7520 - val_accuracy: 0.5085 - val_loss: 1.5495\n",
            "Epoch 11/100\n",
            "659/659 - 6s - 9ms/step - accuracy: 0.4155 - loss: 1.7124 - val_accuracy: 0.5158 - val_loss: 1.5156\n",
            "Epoch 12/100\n",
            "659/659 - 4s - 7ms/step - accuracy: 0.4313 - loss: 1.6733 - val_accuracy: 0.5158 - val_loss: 1.4729\n",
            "Epoch 13/100\n",
            "659/659 - 5s - 7ms/step - accuracy: 0.4381 - loss: 1.6447 - val_accuracy: 0.5243 - val_loss: 1.4431\n",
            "Epoch 14/100\n",
            "659/659 - 5s - 8ms/step - accuracy: 0.4497 - loss: 1.6109 - val_accuracy: 0.5425 - val_loss: 1.4073\n",
            "Epoch 15/100\n",
            "659/659 - 10s - 15ms/step - accuracy: 0.4583 - loss: 1.5824 - val_accuracy: 0.5596 - val_loss: 1.3670\n",
            "Epoch 16/100\n",
            "659/659 - 5s - 8ms/step - accuracy: 0.4709 - loss: 1.5507 - val_accuracy: 0.5676 - val_loss: 1.3420\n",
            "Epoch 17/100\n",
            "659/659 - 4s - 7ms/step - accuracy: 0.4738 - loss: 1.5272 - val_accuracy: 0.5769 - val_loss: 1.3141\n",
            "Epoch 18/100\n",
            "659/659 - 6s - 10ms/step - accuracy: 0.4816 - loss: 1.5000 - val_accuracy: 0.5761 - val_loss: 1.2966\n",
            "Epoch 19/100\n",
            "659/659 - 10s - 14ms/step - accuracy: 0.4912 - loss: 1.4773 - val_accuracy: 0.5792 - val_loss: 1.2607\n",
            "Epoch 20/100\n",
            "659/659 - 4s - 7ms/step - accuracy: 0.4965 - loss: 1.4567 - val_accuracy: 0.5862 - val_loss: 1.2543\n",
            "Epoch 21/100\n",
            "659/659 - 5s - 8ms/step - accuracy: 0.5052 - loss: 1.4308 - val_accuracy: 0.6006 - val_loss: 1.2180\n",
            "Epoch 22/100\n",
            "659/659 - 5s - 8ms/step - accuracy: 0.5098 - loss: 1.4122 - val_accuracy: 0.5902 - val_loss: 1.2093\n",
            "Epoch 23/100\n",
            "659/659 - 10s - 15ms/step - accuracy: 0.5204 - loss: 1.3934 - val_accuracy: 0.6164 - val_loss: 1.1546\n",
            "Epoch 24/100\n",
            "659/659 - 5s - 7ms/step - accuracy: 0.5261 - loss: 1.3694 - val_accuracy: 0.6266 - val_loss: 1.1431\n",
            "Epoch 25/100\n",
            "659/659 - 5s - 7ms/step - accuracy: 0.5263 - loss: 1.3613 - val_accuracy: 0.6325 - val_loss: 1.1315\n",
            "Epoch 26/100\n",
            "659/659 - 5s - 8ms/step - accuracy: 0.5342 - loss: 1.3398 - val_accuracy: 0.6278 - val_loss: 1.1290\n",
            "Epoch 27/100\n",
            "659/659 - 5s - 7ms/step - accuracy: 0.5401 - loss: 1.3227 - val_accuracy: 0.6503 - val_loss: 1.0794\n",
            "Epoch 28/100\n",
            "659/659 - 5s - 8ms/step - accuracy: 0.5451 - loss: 1.3046 - val_accuracy: 0.6496 - val_loss: 1.0795\n",
            "Epoch 29/100\n",
            "659/659 - 4s - 6ms/step - accuracy: 0.5536 - loss: 1.2904 - val_accuracy: 0.6530 - val_loss: 1.0615\n",
            "Epoch 30/100\n",
            "659/659 - 6s - 9ms/step - accuracy: 0.5574 - loss: 1.2755 - val_accuracy: 0.6581 - val_loss: 1.0614\n",
            "Epoch 31/100\n",
            "659/659 - 5s - 7ms/step - accuracy: 0.5619 - loss: 1.2675 - val_accuracy: 0.6682 - val_loss: 1.0329\n",
            "Epoch 32/100\n",
            "659/659 - 4s - 7ms/step - accuracy: 0.5660 - loss: 1.2486 - val_accuracy: 0.6627 - val_loss: 1.0237\n",
            "Epoch 33/100\n",
            "659/659 - 6s - 9ms/step - accuracy: 0.5732 - loss: 1.2247 - val_accuracy: 0.6669 - val_loss: 1.0091\n",
            "Epoch 34/100\n",
            "659/659 - 4s - 7ms/step - accuracy: 0.5708 - loss: 1.2232 - val_accuracy: 0.6803 - val_loss: 0.9886\n",
            "Epoch 35/100\n",
            "659/659 - 5s - 8ms/step - accuracy: 0.5749 - loss: 1.2099 - val_accuracy: 0.6893 - val_loss: 0.9795\n",
            "Epoch 36/100\n",
            "659/659 - 4s - 6ms/step - accuracy: 0.5826 - loss: 1.2029 - val_accuracy: 0.6838 - val_loss: 0.9939\n",
            "Epoch 37/100\n",
            "659/659 - 5s - 7ms/step - accuracy: 0.5852 - loss: 1.1894 - val_accuracy: 0.6788 - val_loss: 0.9599\n",
            "Epoch 38/100\n",
            "659/659 - 5s - 8ms/step - accuracy: 0.5833 - loss: 1.1786 - val_accuracy: 0.6972 - val_loss: 0.9504\n",
            "Epoch 39/100\n",
            "659/659 - 4s - 6ms/step - accuracy: 0.5919 - loss: 1.1647 - val_accuracy: 0.7067 - val_loss: 0.9234\n",
            "Epoch 40/100\n",
            "659/659 - 5s - 7ms/step - accuracy: 0.5949 - loss: 1.1642 - val_accuracy: 0.6925 - val_loss: 0.9417\n",
            "Epoch 41/100\n",
            "659/659 - 6s - 9ms/step - accuracy: 0.6000 - loss: 1.1477 - val_accuracy: 0.6991 - val_loss: 0.9177\n",
            "Epoch 42/100\n",
            "659/659 - 10s - 15ms/step - accuracy: 0.6030 - loss: 1.1436 - val_accuracy: 0.7172 - val_loss: 0.8982\n",
            "Epoch 43/100\n",
            "659/659 - 9s - 13ms/step - accuracy: 0.6033 - loss: 1.1317 - val_accuracy: 0.7158 - val_loss: 0.9027\n",
            "Epoch 44/100\n",
            "659/659 - 5s - 8ms/step - accuracy: 0.6040 - loss: 1.1226 - val_accuracy: 0.7058 - val_loss: 0.8993\n",
            "Epoch 45/100\n",
            "659/659 - 4s - 7ms/step - accuracy: 0.6112 - loss: 1.1090 - val_accuracy: 0.7200 - val_loss: 0.8676\n",
            "Epoch 46/100\n",
            "659/659 - 6s - 9ms/step - accuracy: 0.6176 - loss: 1.0973 - val_accuracy: 0.7249 - val_loss: 0.8509\n",
            "Epoch 47/100\n",
            "659/659 - 5s - 7ms/step - accuracy: 0.6174 - loss: 1.0925 - val_accuracy: 0.7060 - val_loss: 0.8905\n",
            "Epoch 48/100\n",
            "659/659 - 6s - 8ms/step - accuracy: 0.6154 - loss: 1.0898 - val_accuracy: 0.7267 - val_loss: 0.8327\n",
            "Epoch 49/100\n",
            "659/659 - 4s - 7ms/step - accuracy: 0.6207 - loss: 1.0773 - val_accuracy: 0.7065 - val_loss: 0.8849\n",
            "Epoch 50/100\n",
            "659/659 - 5s - 8ms/step - accuracy: 0.6237 - loss: 1.0732 - val_accuracy: 0.7200 - val_loss: 0.8485\n",
            "Epoch 51/100\n",
            "659/659 - 5s - 7ms/step - accuracy: 0.6220 - loss: 1.0656 - val_accuracy: 0.7314 - val_loss: 0.8434\n",
            "Epoch 52/100\n",
            "659/659 - 5s - 7ms/step - accuracy: 0.6269 - loss: 1.0572 - val_accuracy: 0.7401 - val_loss: 0.8177\n",
            "Epoch 53/100\n",
            "659/659 - 5s - 8ms/step - accuracy: 0.6329 - loss: 1.0470 - val_accuracy: 0.7365 - val_loss: 0.8082\n",
            "Epoch 54/100\n",
            "659/659 - 5s - 7ms/step - accuracy: 0.6331 - loss: 1.0480 - val_accuracy: 0.7314 - val_loss: 0.8161\n",
            "Epoch 55/100\n",
            "659/659 - 4s - 6ms/step - accuracy: 0.6368 - loss: 1.0363 - val_accuracy: 0.7342 - val_loss: 0.8113\n",
            "Epoch 56/100\n",
            "659/659 - 6s - 9ms/step - accuracy: 0.6422 - loss: 1.0306 - val_accuracy: 0.7358 - val_loss: 0.8091\n",
            "Epoch 57/100\n",
            "659/659 - 5s - 8ms/step - accuracy: 0.6408 - loss: 1.0207 - val_accuracy: 0.7511 - val_loss: 0.7910\n",
            "Epoch 58/100\n",
            "659/659 - 5s - 8ms/step - accuracy: 0.6443 - loss: 1.0168 - val_accuracy: 0.7481 - val_loss: 0.7790\n",
            "Epoch 59/100\n",
            "659/659 - 4s - 7ms/step - accuracy: 0.6459 - loss: 1.0167 - val_accuracy: 0.7443 - val_loss: 0.7718\n",
            "Epoch 60/100\n",
            "659/659 - 4s - 7ms/step - accuracy: 0.6507 - loss: 1.0034 - val_accuracy: 0.7627 - val_loss: 0.7610\n",
            "Epoch 61/100\n",
            "659/659 - 6s - 9ms/step - accuracy: 0.6498 - loss: 0.9925 - val_accuracy: 0.7553 - val_loss: 0.7469\n",
            "Epoch 62/100\n",
            "659/659 - 9s - 13ms/step - accuracy: 0.6512 - loss: 0.9938 - val_accuracy: 0.7551 - val_loss: 0.7600\n",
            "Epoch 63/100\n",
            "659/659 - 6s - 9ms/step - accuracy: 0.6524 - loss: 0.9884 - val_accuracy: 0.7658 - val_loss: 0.7408\n",
            "Epoch 64/100\n",
            "659/659 - 4s - 6ms/step - accuracy: 0.6515 - loss: 0.9827 - val_accuracy: 0.7629 - val_loss: 0.7505\n",
            "Epoch 65/100\n",
            "659/659 - 6s - 9ms/step - accuracy: 0.6582 - loss: 0.9710 - val_accuracy: 0.7724 - val_loss: 0.7282\n",
            "Epoch 66/100\n",
            "659/659 - 4s - 7ms/step - accuracy: 0.6596 - loss: 0.9666 - val_accuracy: 0.7661 - val_loss: 0.7420\n",
            "Epoch 67/100\n",
            "659/659 - 5s - 8ms/step - accuracy: 0.6617 - loss: 0.9698 - val_accuracy: 0.7692 - val_loss: 0.7282\n",
            "Epoch 68/100\n",
            "659/659 - 6s - 9ms/step - accuracy: 0.6620 - loss: 0.9569 - val_accuracy: 0.7752 - val_loss: 0.7188\n",
            "Epoch 69/100\n",
            "659/659 - 4s - 7ms/step - accuracy: 0.6629 - loss: 0.9543 - val_accuracy: 0.7599 - val_loss: 0.7329\n",
            "Epoch 70/100\n",
            "659/659 - 6s - 8ms/step - accuracy: 0.6633 - loss: 0.9570 - val_accuracy: 0.7735 - val_loss: 0.7091\n",
            "Epoch 71/100\n",
            "659/659 - 4s - 7ms/step - accuracy: 0.6639 - loss: 0.9447 - val_accuracy: 0.7732 - val_loss: 0.7253\n",
            "Epoch 72/100\n",
            "659/659 - 5s - 7ms/step - accuracy: 0.6698 - loss: 0.9406 - val_accuracy: 0.7642 - val_loss: 0.7358\n",
            "Epoch 73/100\n",
            "659/659 - 5s - 7ms/step - accuracy: 0.6697 - loss: 0.9313 - val_accuracy: 0.7853 - val_loss: 0.6948\n",
            "Epoch 74/100\n",
            "659/659 - 5s - 8ms/step - accuracy: 0.6732 - loss: 0.9261 - val_accuracy: 0.7779 - val_loss: 0.6897\n",
            "Epoch 75/100\n",
            "659/659 - 6s - 8ms/step - accuracy: 0.6704 - loss: 0.9245 - val_accuracy: 0.7885 - val_loss: 0.6748\n",
            "Epoch 76/100\n",
            "659/659 - 5s - 7ms/step - accuracy: 0.6693 - loss: 0.9287 - val_accuracy: 0.7863 - val_loss: 0.6664\n",
            "Epoch 77/100\n",
            "659/659 - 5s - 8ms/step - accuracy: 0.6723 - loss: 0.9223 - val_accuracy: 0.7817 - val_loss: 0.6685\n",
            "Epoch 78/100\n",
            "659/659 - 4s - 6ms/step - accuracy: 0.6761 - loss: 0.9209 - val_accuracy: 0.7842 - val_loss: 0.6724\n",
            "Epoch 79/100\n",
            "659/659 - 4s - 7ms/step - accuracy: 0.6743 - loss: 0.9152 - val_accuracy: 0.7819 - val_loss: 0.6876\n",
            "Epoch 80/100\n",
            "659/659 - 5s - 7ms/step - accuracy: 0.6794 - loss: 0.9072 - val_accuracy: 0.7815 - val_loss: 0.6725\n",
            "Epoch 81/100\n",
            "659/659 - 4s - 7ms/step - accuracy: 0.6785 - loss: 0.9040 - val_accuracy: 0.7973 - val_loss: 0.6520\n",
            "Epoch 82/100\n",
            "659/659 - 6s - 9ms/step - accuracy: 0.6806 - loss: 0.9006 - val_accuracy: 0.7927 - val_loss: 0.6515\n",
            "Epoch 83/100\n",
            "659/659 - 5s - 7ms/step - accuracy: 0.6883 - loss: 0.8914 - val_accuracy: 0.7920 - val_loss: 0.6523\n",
            "Epoch 84/100\n",
            "659/659 - 5s - 8ms/step - accuracy: 0.6838 - loss: 0.8891 - val_accuracy: 0.7999 - val_loss: 0.6388\n",
            "Epoch 85/100\n",
            "659/659 - 5s - 8ms/step - accuracy: 0.6884 - loss: 0.8794 - val_accuracy: 0.7828 - val_loss: 0.6612\n",
            "Epoch 86/100\n",
            "659/659 - 4s - 6ms/step - accuracy: 0.6847 - loss: 0.8843 - val_accuracy: 0.7789 - val_loss: 0.6651\n",
            "Epoch 87/100\n",
            "659/659 - 4s - 7ms/step - accuracy: 0.6838 - loss: 0.8904 - val_accuracy: 0.7935 - val_loss: 0.6520\n",
            "Epoch 88/100\n",
            "659/659 - 5s - 7ms/step - accuracy: 0.6883 - loss: 0.8782 - val_accuracy: 0.8001 - val_loss: 0.6235\n",
            "Epoch 89/100\n",
            "659/659 - 5s - 7ms/step - accuracy: 0.6938 - loss: 0.8656 - val_accuracy: 0.8109 - val_loss: 0.6144\n",
            "Epoch 90/100\n",
            "659/659 - 5s - 7ms/step - accuracy: 0.6938 - loss: 0.8676 - val_accuracy: 0.8009 - val_loss: 0.6285\n",
            "Epoch 91/100\n",
            "659/659 - 4s - 7ms/step - accuracy: 0.6941 - loss: 0.8640 - val_accuracy: 0.8077 - val_loss: 0.6152\n",
            "Epoch 92/100\n",
            "659/659 - 6s - 9ms/step - accuracy: 0.6966 - loss: 0.8614 - val_accuracy: 0.8016 - val_loss: 0.6239\n",
            "Epoch 93/100\n",
            "659/659 - 6s - 8ms/step - accuracy: 0.6958 - loss: 0.8551 - val_accuracy: 0.8081 - val_loss: 0.6128\n",
            "Epoch 94/100\n",
            "659/659 - 5s - 7ms/step - accuracy: 0.6972 - loss: 0.8553 - val_accuracy: 0.8066 - val_loss: 0.6018\n",
            "Epoch 95/100\n",
            "659/659 - 5s - 8ms/step - accuracy: 0.7015 - loss: 0.8457 - val_accuracy: 0.8054 - val_loss: 0.6073\n",
            "Epoch 96/100\n",
            "659/659 - 4s - 6ms/step - accuracy: 0.7003 - loss: 0.8424 - val_accuracy: 0.8071 - val_loss: 0.6037\n",
            "Epoch 97/100\n",
            "659/659 - 4s - 7ms/step - accuracy: 0.6987 - loss: 0.8473 - val_accuracy: 0.8090 - val_loss: 0.5992\n",
            "Epoch 98/100\n",
            "659/659 - 5s - 8ms/step - accuracy: 0.7021 - loss: 0.8442 - val_accuracy: 0.8181 - val_loss: 0.5910\n",
            "Epoch 99/100\n",
            "659/659 - 5s - 8ms/step - accuracy: 0.7002 - loss: 0.8436 - val_accuracy: 0.8183 - val_loss: 0.5781\n",
            "Epoch 100/100\n",
            "659/659 - 5s - 8ms/step - accuracy: 0.7032 - loss: 0.8312 - val_accuracy: 0.8221 - val_loss: 0.5877\n"
          ]
        }
      ],
      "source": [
        "# import ModelCheckpoint\n",
        "from tensorflow.keras.callbacks import ModelCheckpoint, EarlyStopping\n",
        "import pickle\n",
        "# Do not modify the following line of code.\n",
        "history_mb = None\n",
        "# Define model checkpoint callback (Do not modify this code).\n",
        "best_model_checkpoint = ModelCheckpoint(\n",
        "    \"best_mobilenet_model.keras\",\n",
        "    save_best_only=True,\n",
        "    monitor='val_loss',\n",
        "    mode='min'\n",
        ")\n",
        "\n",
        "# Set up early stopping\n",
        "early_stopping_cb = EarlyStopping(\n",
        "    monitor='val_loss',\n",
        "    patience=5,\n",
        "    restore_best_weights=True\n",
        ")\n",
        "\n",
        "## Perform the training on your machine and then comment out the following section before uploading it to gradescope.\n",
        "####################################\n",
        "# make sure your best model is named as follow:\n",
        "# MobileNet model filename = best_mobilenet_model.keras\n",
        "# Train the model (comment this section out)\n",
        "# history_mb = final_mb_model.fit(\n",
        "#     train_images_mb,\n",
        "#     train_labels_encoded,\n",
        "#     batch_size=32,\n",
        "#     epochs=100,\n",
        "#     validation_split=0.2,\n",
        "#     callbacks=[early_stopping_cb, best_model_checkpoint],\n",
        "#     verbose=2\n",
        "# )\n",
        "\n",
        "# # # # # The following code will save your history - don't change it\n",
        "# if \"history_mb\" in globals():\n",
        "#     with open('./historymb', 'wb') as file_pi:\n",
        "#         pickle.dump(history_mb.history, file_pi)\n",
        "# # ####################################\n",
        "\n",
        "# The following code is used by the autograder. Do not modify it.\n",
        "step19_sol = (best_model_checkpoint, early_stopping_cb)"
      ]
    },
    {
      "cell_type": "code",
      "execution_count": null,
      "metadata": {
        "id": "D_Qsn5BhWdI2"
      },
      "outputs": [],
      "source": [
        "grader.check(\"step19\")"
      ]
    },
    {
      "cell_type": "markdown",
      "metadata": {
        "id": "idN0ByHcWdI2"
      },
      "source": [
        "**Step20** For the trained model loaded using the code given below, evaluate its performance on the test set.\n",
        "\n",
        "_Points:_ 1"
      ]
    },
    {
      "cell_type": "code",
      "execution_count": 39,
      "metadata": {
        "id": "tWkr4V2nWdI2",
        "outputId": "7df535f1-ef00-4466-c96c-288140ee2839",
        "colab": {
          "base_uri": "https://localhost:8080/"
        }
      },
      "outputs": [
        {
          "output_type": "stream",
          "name": "stdout",
          "text": [
            "Model Mobile Net: Test accuracy: 0.7376\n"
          ]
        }
      ],
      "source": [
        "# Do not modify the following two lines of code.\n",
        "# define the file name for the saved model\n",
        "model_name = \"best_mobilenet_model.keras\"\n",
        "# load the model\n",
        "final_mb_model = keras.models.load_model(model_name)\n",
        "\n",
        "# Evaluate the model on the test set\n",
        "test_loss1_mobilenet, test_acc1_mobilenet = final_mb_model.evaluate(test_images_mb, test_labels_encoded, verbose=0)\n",
        "print(f\"Model Mobile Net: Test accuracy: {test_acc1_mobilenet:.4f}\")\n",
        "\n",
        "# The following code is used by the autograder. Do not modify it.\n",
        "step20_sol = (test_loss1_mobilenet,test_acc1_mobilenet)"
      ]
    },
    {
      "cell_type": "code",
      "execution_count": null,
      "metadata": {
        "id": "kDyh2GohWdI2"
      },
      "outputs": [],
      "source": [
        "grader.check(\"step20\")"
      ]
    },
    {
      "cell_type": "markdown",
      "metadata": {
        "id": "ngnjl7zlWdI2"
      },
      "source": [
        "**Step21** So far, you have seen the overall performance of your models. However, it is possible that some classes may be more difficult to classify than others. To gain a clearer understanding of which letters are the most difficult or easiest to predict, you can use your MobileNet model and make predictions on your test data using the predict function. Based on this, you can check the proportion of correct matches for each letter over the total number of that specific letter in the test data (as the proportion of one letter may differ from that of others). Finally, return the result as a string indicating the most complex and easiest letter to predict based on our analysis (e.g., \"a\" in lowercase).\n",
        "\n",
        "_Points:_ 2"
      ]
    },
    {
      "cell_type": "code",
      "execution_count": 43,
      "metadata": {
        "id": "OyxcX-3YWdI2",
        "outputId": "74dacd71-9d7c-497c-f80c-e549d8285bb0",
        "colab": {
          "base_uri": "https://localhost:8080/"
        }
      },
      "outputs": [
        {
          "output_type": "stream",
          "name": "stdout",
          "text": [
            "\u001b[1m214/214\u001b[0m \u001b[32m━━━━━━━━━━━━━━━━━━━━\u001b[0m\u001b[37m\u001b[0m \u001b[1m2s\u001b[0m 7ms/step\n"
          ]
        }
      ],
      "source": [
        "# Put here again the labels (not hot encoded)\n",
        "label_indices = np.argmax(test_labels_encoded, axis=1)\n",
        "letters = list(\"abcdefghiklmnopqrstuvxyz\")\n",
        "test_labels = np.array([letters[i] for i in label_indices])\n",
        "# Make the prediction using MobileNet model. Use the function predict.\n",
        "prediction_test = final_mb_model.predict(test_images_mb)\n",
        "predicted_labels = np.argmax(prediction_test, axis=1)\n",
        "\n",
        "predicted_labels_letters = np.array([letters[i] for i in predicted_labels])\n",
        "\n",
        "# Calculate per-letter accuracy\n",
        "letter_accuracies = {}\n",
        "\n",
        "for letter in letters:\n",
        "    mask = (test_labels == letter)\n",
        "    if np.sum(mask) == 0:\n",
        "        continue  # Avoid division by zero\n",
        "    correct = np.sum(predicted_labels_letters[mask] == letter)\n",
        "    accuracy = correct / np.sum(mask)\n",
        "    letter_accuracies[letter] = accuracy\n",
        "\n",
        "# Now this won't fail\n",
        "complex_letter = min(letter_accuracies, key=letter_accuracies.get)\n",
        "easiest_letter = max(letter_accuracies, key=letter_accuracies.get)\n",
        "\n",
        "# The following code is used by the autograder. Do not modify it.\n",
        "step21_sol = (test_labels,prediction_test,complex_letter,easiest_letter)"
      ]
    },
    {
      "cell_type": "code",
      "execution_count": null,
      "metadata": {
        "id": "BrZ-8UB1WdI2"
      },
      "outputs": [],
      "source": [
        "grader.check(\"step21\")"
      ]
    },
    {
      "cell_type": "markdown",
      "metadata": {
        "id": "LFMIojgKWdI2"
      },
      "source": [
        "## Using our final model"
      ]
    },
    {
      "cell_type": "markdown",
      "metadata": {
        "id": "LoJC4oqqWdI2"
      },
      "source": [
        "**Step22**\n",
        "\n",
        "**Predict on a new sample** Process the image `challenge1.jpg` and try to dechiper what is the letter in the image using your best model. Be aware that your model gives you numeric results, however you should convert this result in a proper output of letters (use lowercase letters).\n",
        "\n",
        "_Points:_ 2"
      ]
    },
    {
      "cell_type": "code",
      "execution_count": 41,
      "metadata": {
        "id": "MrhiHymJWdI2",
        "outputId": "9de0067a-d4e7-48a7-adbc-158c9cf1b34f",
        "colab": {
          "base_uri": "https://localhost:8080/",
          "height": 624
        }
      },
      "outputs": [
        {
          "output_type": "display_data",
          "data": {
            "text/plain": [
              "<Figure size 640x480 with 1 Axes>"
            ],
            "image/png": "[encoded data removed]"
          },
          "metadata": {}
        },
        {
          "output_type": "error",
          "ename": "NameError",
          "evalue": "name 'preprocess_input' is not defined",
          "traceback": [
            "\u001b[0;31m---------------------------------------------------------------------------\u001b[0m",
            "\u001b[0;31mNameError\u001b[0m                                 Traceback (most recent call last)",
            "\u001b[0;32m<ipython-input-41-ef991a607db6>\u001b[0m in \u001b[0;36m<cell line: 0>\u001b[0;34m()\u001b[0m\n\u001b[1;32m     11\u001b[0m \u001b[0mimg_rgb\u001b[0m \u001b[0;34m=\u001b[0m \u001b[0mtf\u001b[0m\u001b[0;34m.\u001b[0m\u001b[0mimage\u001b[0m\u001b[0;34m.\u001b[0m\u001b[0mgrayscale_to_rgb\u001b[0m\u001b[0;34m(\u001b[0m\u001b[0mtf\u001b[0m\u001b[0;34m.\u001b[0m\u001b[0mconvert_to_tensor\u001b[0m\u001b[0;34m(\u001b[0m\u001b[0mimg_reshaped\u001b[0m\u001b[0;34m,\u001b[0m \u001b[0mdtype\u001b[0m\u001b[0;34m=\u001b[0m\u001b[0mtf\u001b[0m\u001b[0;34m.\u001b[0m\u001b[0mfloat32\u001b[0m\u001b[0;34m)\u001b[0m\u001b[0;34m)\u001b[0m  \u001b[0;31m# Convert to RGB (28,28,3)\u001b[0m\u001b[0;34m\u001b[0m\u001b[0;34m\u001b[0m\u001b[0m\n\u001b[1;32m     12\u001b[0m \u001b[0mimg_input\u001b[0m \u001b[0;34m=\u001b[0m \u001b[0mtf\u001b[0m\u001b[0;34m.\u001b[0m\u001b[0mexpand_dims\u001b[0m\u001b[0;34m(\u001b[0m\u001b[0mimg_rgb\u001b[0m\u001b[0;34m,\u001b[0m \u001b[0maxis\u001b[0m\u001b[0;34m=\u001b[0m\u001b[0;36m0\u001b[0m\u001b[0;34m)\u001b[0m  \u001b[0;31m# Add batch dimension (1,28,28,3)\u001b[0m\u001b[0;34m\u001b[0m\u001b[0;34m\u001b[0m\u001b[0m\n\u001b[0;32m---> 13\u001b[0;31m \u001b[0mimg_input\u001b[0m \u001b[0;34m=\u001b[0m \u001b[0mpreprocess_input\u001b[0m\u001b[0;34m(\u001b[0m\u001b[0mimg_input\u001b[0m\u001b[0;34m)\u001b[0m  \u001b[0;31m# Apply MobileNet preprocessing\u001b[0m\u001b[0;34m\u001b[0m\u001b[0;34m\u001b[0m\u001b[0m\n\u001b[0m\u001b[1;32m     14\u001b[0m \u001b[0;34m\u001b[0m\u001b[0m\n\u001b[1;32m     15\u001b[0m \u001b[0;31m# Predict in this data using your best model\u001b[0m\u001b[0;34m\u001b[0m\u001b[0;34m\u001b[0m\u001b[0m\n",
            "\u001b[0;31mNameError\u001b[0m: name 'preprocess_input' is not defined"
          ]
        }
      ],
      "source": [
        "# Load the image (do not modify this line of code)\n",
        "img_challenge1 = cv2.imread('challenge1.jpg', cv2.IMREAD_GRAYSCALE)\n",
        "\n",
        "# Plot the image (do not modify the following 2 lines of code)\n",
        "plt.imshow(img_challenge1)\n",
        "plt.show()\n",
        "\n",
        "# Process the data\n",
        "img_resized = cv2.resize(img_challenge1, (28, 28))  # Resize to 28x28\n",
        "img_reshaped = np.expand_dims(img_resized, axis=-1)  # Add channel dimension (28,28,1)\n",
        "img_rgb = tf.image.grayscale_to_rgb(tf.convert_to_tensor(img_reshaped, dtype=tf.float32))  # Convert to RGB (28,28,3)\n",
        "img_input = tf.expand_dims(img_rgb, axis=0)  # Add batch dimension (1,28,28,3)\n",
        "img_input = preprocess_input(img_input)  # Apply MobileNet preprocessing\n",
        "\n",
        "# Predict in this data using your best model\n",
        "prediction_challenge1 = final_mb_model.predict(img_input)\n",
        "\n",
        "\n",
        "# Decoding result. This should be the string representation of the output generated by your model.\n",
        "label_map = {\n",
        "    0: 'a', 1: 'b', 2: 'c', 3: 'd',\n",
        "    4: 'e', 5: 'f', 6: 'g', 7: 'h',\n",
        "    8: 'i', 9: 'k', 10: 'l', 11: 'm',\n",
        "    12: 'n', 13: 'o', 14: 'p', 15: 'q',\n",
        "    16: 'r', 17: 's', 18: 't', 19: 'u',\n",
        "    20: 'v', 21: 'w', 22: 'x', 23: 'y'\n",
        "}\n",
        "predicted_index = np.argmax(prediction_challenge1)\n",
        "result_challenge1 = label_map[predicted_index]\n",
        "\n",
        "# The following code is used by the autograder. Do not modify it.\n",
        "step22_sol = (result_challenge1)"
      ]
    }
  ],
  "metadata": {
    "kernelspec": {
      "display_name": "Python 3",
      "name": "python3"
    },
    "language_info": {
      "codemirror_mode": {
        "name": "ipython",
        "version": 3
      },
      "file_extension": ".py",
      "mimetype": "text/x-python",
      "name": "python",
      "nbconvert_exporter": "python",
      "pygments_lexer": "ipython3",
      "version": "3.9.21"
    },
    "colab": {
      "provenance": [],
      "gpuType": "T4"
    },
    "accelerator": "GPU"
  },
  "nbformat": 4,
  "nbformat_minor": 0
}
